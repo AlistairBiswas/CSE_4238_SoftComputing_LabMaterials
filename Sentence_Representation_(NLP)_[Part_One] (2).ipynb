{
  "cells": [
    {
      "cell_type": "markdown",
      "metadata": {
        "id": "bUMBAY99VlXW"
      },
      "source": [
        "## Word Embedding\n",
        "\n",
        "**All texts need to be converted to numbers before starts processing by\n",
        "the machine. Specifically, vectors of numbers.**\n",
        "\n",
        "Text is messy in nature and machine learning algorithms prefer well defined fixed-length inputs and outputs.\n",
        "\n",
        "**Word Embedding** is one such technique where we can represent the text using vectors. Before deep learning era, the popular forms of word embeddings were:\n",
        "\n",
        "- **BoW**, which stands for Bag of Words\n",
        "- **TF-IDF**, which stands for Term Frequency-Inverse Document Frequency\n",
        "\n",
        "### Bag-of-Words (BoW)\n",
        "\n",
        "The **Bag-of-Words (BoW)**  model is a way of representing text data when modeling text with machine learning algorithms. The **Bag-of-Words (BoW)** model is popular, simple to understand, and has seen great success in **language modeling** and **document classification**.\n",
        "\n",
        "A bag-of-words is a representation of text that describes the occurrence of words within a document. It involves two things:\n",
        "\n",
        "- A vocabulary of known words.\n",
        "- A measure of the presence of known words.\n",
        "\n",
        "### Example (BoW)\n",
        "\n",
        "Consider the following 4 sentences:-\n",
        "\n",
        "- It was the best of times.\n",
        "- it was the worst of Times.\n",
        "- it is the time of stupidity.\n",
        "- it is the age of foolishness.\n",
        "\n",
        "Form this above example, let’s consider each line as a separate **“document”** and the 4 lines as our entire corpus of documents.\n",
        "\n",
        "\n",
        "### Vocabulary\n",
        "\n",
        "What would be the total vocabulary???\n"
      ]
    },
    {
      "cell_type": "markdown",
      "metadata": {
        "id": "nd2qNqKacxgI"
      },
      "source": [
        "## Bag of Words (BoW) Model\n",
        "\n",
        "### 1. Design the Vocabulary\n",
        "\n",
        "The unique words by ignoring case, punctuations, and making them into root words are:\n",
        "\n",
        "1. it\n",
        "2. was\n",
        "3. the\n",
        "4. best\n",
        "5. of\n",
        "6. time\n",
        "7. worst\n",
        "8. stupidity\n",
        "9. is\n",
        "10. age\n",
        "11. foolishness\n",
        "\n",
        "**Vocabulary contains 11 words while the full corpus contains 24 words.**\n",
        "\n",
        "### 2. Create Document Vectors\n",
        "\n",
        "The objective is to turn each document of text into a vector so that we can use as input or output for a machine learning model.\n",
        "\n",
        "Because we know the vocabulary has 11 words, we can use a fixed-length document representation of 11, with one position in the vector to score each word. The simplest scoring method is to mark the presence of words as a boolean value, 0 for absent, non-zero (positive value) for present. There can be other methods such as count based methods of the terms if more than one occurance of a trem.\n",
        "\n",
        "In this example the binary vector of four documents would look as follows:\n",
        "\n",
        "|                | it | was | the | best | of | time | worst | stupidity | is | age | foolishness |\n",
        "|:--------------:|:--:|:---:|:---:|:----:|:--:|:----:|:-----:|:------:|:--:|:---:|:-----------:|\n",
        "| Document #1 [ It was the best of times. ] |  1 |  1  |  1  |   1  |  1 |   1  |   0   |    0   |  0 |  0  |      0      |\n",
        "| Document #2 [ it was the worst of Times. ] |  1 |  1  |  1  |   0  |  1 |   1  |   1   |    0   |  0 |  0  |      0      |\n",
        "| Document #3 [ it is the time of stupidity. ] |  1 |  0  |  1  |   0  |  1 |   1  |   0   |    1   |  1 |  0  |      0      |\n",
        "| Document #4 [ it is the age of foolishness. ] |  1 |  0  |  1  |   0  |  1 |   0  |   0   |    0   |  1 |  1  |      1      |\n",
        "\n",
        "### Problems\n",
        "\n",
        "- Ordering of words have been discarded which **ignores the context**. These unordered words **can't preserve document semantics** For instance, **“this is interesting”** vs **“is this interesting”**. Moreover, **\"stupidity\"** and **\"foolishness\"** are considered two different words in the dictionary.\n",
        "- We are retaining no information on the **grammar of the sentences**.\n",
        "- New documents that overlap with the vocabulary of known words, but may contain **words outside of the vocabulary**.\n",
        "- If the vocabulary size increases the **document representation dimension** also increases."
      ]
    },
    {
      "cell_type": "markdown",
      "metadata": {
        "id": "u3XeSWGTmEEQ"
      },
      "source": [
        "## Managing Vocabulary\n",
        "\n",
        "In the previous example, the **length of the document vector** is equal to the number of known words which is 11 words.\n",
        "\n",
        "For a very large corpus, such as thousands of books, the length of the vector **might be thousands or millions of positions**. Further, each document may contain **very few of the known words in the vocabulary**. This results in a vector with lots of zero scores, called a sparse vector or sparse representation. Sparse vectors require more memory and computational resources **(space and time complexity)**\n",
        "\n",
        "It's very important to decrease the size of the vocabulary when using a bag-of-words model.\n",
        "\n",
        "### Solution #1\n",
        "\n",
        "There are simple text cleaning techniques that can be used as a first step, such as:\n",
        "\n",
        "- Ignoring case\n",
        "- Ignoring punctuation\n",
        "- Ignoring frequent words that don’t contain much information, called stop words, like “a,” “of,” etc.\n",
        "- Fixing misspelled words.\n",
        "- Reducing words to their stem (e.g. “play” from “playing”) using stemming algorithms.\n",
        "\n",
        "### Solution #2\n",
        "\n",
        "Each word or token is called a “gram”. Creating a vocabulary of two-word pairs is, in turn, called a **bigram model**.\n",
        "\n",
        "An **N-gram** is an N-token sequence of words: a 2-gram (more commonly called a bigram) is a two-word sequence of words like “please turn”, “turn your”, or “your homework”, and a **3-gram (more commonly called a trigram)** is a three-word sequence of words like “please turn your”, or “turn your homework”.\n",
        "\n",
        "For example, the bigrams in the first line of text in the previous section: **“It was the best of times”** are as follows:\n",
        "\n",
        "- “it was”\n",
        "- “was the”\n",
        "- “the best”\n",
        "- “best of”\n",
        "- “of times”\n",
        "\n",
        "**A vocabulary then tracks triplets of words is called a trigram model** and the general approach is called the **n-gram model**, where n refers to the number of grouped words.\n",
        "\n",
        "**Note: Often a simple bigram approach is better than a 1-gram bag-of-words model.**\n",
        "\n"
      ]
    },
    {
      "cell_type": "markdown",
      "metadata": {
        "id": "lmOYcFk2Bm9d"
      },
      "source": [
        "## One-Hot Representation\n",
        "\n",
        "The one­ hot representation, as the name suggests, starts with a zero vector, and sets as 1 the corresponding entry in the vector if the word is present in the sentence or document.\n",
        "\n",
        "Tokenizing the sentences, ignoring punctuation, and treating everything as lowercase, will yield a vocabulary of size 8: `{time, fruit, flies, like, a, an, arrow, banana}`.\n",
        "\n",
        "The binary encoding for **“like a banana”** would then be:\n",
        "\n",
        "```\n",
        "[0, 0, 0, 1, 1, 0, 0, 1]\n",
        "```\n",
        "\n"
      ]
    },
    {
      "cell_type": "code",
      "execution_count": null,
      "metadata": {
        "colab": {
          "base_uri": "https://localhost:8080/",
          "height": 356
        },
        "id": "jQBGhETP9vBe",
        "outputId": "933bf7b1-6c9d-4cb3-b359-94a786097f5b"
      },
      "outputs": [
        {
          "output_type": "stream",
          "name": "stdout",
          "text": [
            "[[1 1 0 1 0 1 1]\n",
            " [0 0 1 1 1 1 0]]\n",
            "{'time': 6, 'flies': 3, 'like': 5, 'an': 0, 'arrow': 1, 'fruit': 4, 'banana': 2}\n",
            "['an', 'arrow', 'banana', 'flies', 'fruit', 'like', 'time']\n"
          ]
        },
        {
          "output_type": "execute_result",
          "data": {
            "text/plain": [
              "<matplotlib.axes._subplots.AxesSubplot at 0x7fdb7ea99fa0>"
            ]
          },
          "metadata": {},
          "execution_count": 1
        },
        {
          "output_type": "display_data",
          "data": {
            "text/plain": [
              "<Figure size 432x288 with 1 Axes>"
            ],
            "image/png": "[encoded data removed]"
          },
          "metadata": {
            "needs_background": "light"
          }
        }
      ],
      "source": [
        "from sklearn.feature_extraction.text import CountVectorizer\n",
        "import seaborn as sns\n",
        "\n",
        "corpus = ['Time flies flies like an arrow.',\n",
        "          'Fruit flies like a banana.']\n",
        "\n",
        "one_hot_vectorizer = CountVectorizer(binary=True)\n",
        "one_hot = one_hot_vectorizer.fit_transform(corpus).toarray()\n",
        "\n",
        "print (one_hot)\n",
        "\n",
        "print (one_hot_vectorizer.vocabulary_)\n",
        "\n",
        "dictionary = sorted(one_hot_vectorizer.vocabulary_)\n",
        "\n",
        "print(dictionary)\n",
        "\n",
        "sns.heatmap(one_hot, annot=True, cbar=False, xticklabels=dictionary,\n",
        "                                             yticklabels=['Sentence 1','Sentence 2'])"
      ]
    },
    {
      "cell_type": "markdown",
      "metadata": {
        "id": "8mjEcnd4vnu9"
      },
      "source": [
        "\\\n",
        "\n",
        "### **Term Frequency (TF)**\n",
        "Term Frequent (**TF**) is a measure of how frequently a term, $t$, appears in a document, $d$:\n",
        "\n",
        "\\\n",
        "\n",
        "$$TF_{t,d} = \\frac{n_{t,d}}{\\text{Total number of terms in document}\\ d }$$\n",
        "\n",
        "\\\n",
        "\n",
        "$n_{t,d}$ = Number of times term $t$ appears in a document $d$. Thus, each document and term would have its own **TF** value.\n",
        "\n",
        "Consider these 3 documents like **BoW** model:-\n",
        "\n",
        "- It was the best of the time.\n",
        "- it was the worst of Times.\n",
        "- it is the time of stupidity.\n",
        "\n",
        "The vocabulary or dictionary of the entire corpus would be:-\n",
        "\n",
        "1. it\n",
        "2. was\n",
        "3. the\n",
        "4. best\n",
        "5. of\n",
        "6. time\n",
        "7. worst\n",
        "8. is\n",
        "9. stupidity\n",
        "\n",
        "Now we will calculate the **TF** values for the **Document 3**.\n",
        "\n",
        "Document 3 :- **it is the time of stupidity.**\n",
        "\n",
        "- Number of words in Document 3 = **6**\n",
        "- TF for the word **‘the’** = (number of times **‘the’** appears in Document 3) / (number of terms in Document 3) = **1/6**\n",
        "\n",
        "Likewise:-\n",
        "\n",
        "- TF(**'it'**) = 1/6\n",
        "- TF(**'was'**) = 0/6 = 0\n",
        "- TF(**'the'**) = 1/6\n",
        "- TF(**'best'**) = 0/6 = 0\n",
        "- TF(**'of'**) = 1/6\n",
        "- TF(**'time'**) = 1/6\n",
        "- TF(**'worst'**) = 0/6 = 0\n",
        "- TF(**'is'**) = 1/6\n",
        "- TF(**'stupidity'**) = 1/6\n",
        "\n",
        "We can calculate all the term frequencies for all the terms of all the documents in this manner:-\n",
        "\n",
        "|    Term   | Document#1 | Document#2 | Document#3 | TF (Document#1) | TF (Document#2) | TF (Document#3) |\n",
        "|:---------:|:----------:|:----------:|:----------:|:---------------:|:---------------:|:---------------:|\n",
        "|     it    |      1     |      1     |      1     |       1/7       |       1/6       |       1/6       |\n",
        "|    was    |      1     |      1     |      0     |       1/7       |       1/6       |        0        |\n",
        "|    the    |      2     |      1     |      1     |       2/7       |       1/6       |       1/6       |\n",
        "|    best   |      1     |      0     |      0     |       1/7       |        0        |        0        |\n",
        "|     of    |      1     |      1     |      1     |       1/7       |       1/6       |       1/6       |\n",
        "|    time   |      1     |      1     |      1     |       1/7       |       1/6       |       1/6       |\n",
        "|   worst   |      0     |      1     |      0     |        0        |       1/6       |        0        |\n",
        "|    is     |      0     |      0     |      1     |        0        |        0        |       1/6       |\n",
        "| stupidity |      0     |      0     |      1     |        0        |        0        |       1/6       |\n",
        "\n",
        "\n",
        "\n",
        "\n"
      ]
    },
    {
      "cell_type": "code",
      "execution_count": null,
      "metadata": {
        "colab": {
          "base_uri": "https://localhost:8080/"
        },
        "id": "8fmAnU-0wLxw",
        "outputId": "632289d7-d06e-47c8-a851-3cbb73372b19"
      },
      "outputs": [
        {
          "output_type": "stream",
          "name": "stdout",
          "text": [
            "0.47712125471966244\n",
            "2.518513939877887\n",
            "0.0\n",
            "0.1249387366082999\n",
            "-0.09691001300805638\n"
          ]
        }
      ],
      "source": [
        "import math\n",
        "\n",
        "print(math.log((3),10))\n",
        "\n",
        "print(math.log((330),10))\n",
        "\n",
        "print(math.log((3/3),10))\n",
        "\n",
        "print(math.log((4/3),10))\n",
        "\n",
        "print(math.log((4/5),10))"
      ]
    },
    {
      "cell_type": "markdown",
      "metadata": {
        "id": "ZwShhL2IA80C"
      },
      "source": [
        "\\\n",
        "\n",
        "### **Inverse Document Frequency (IDF)**\n",
        "\n",
        "IDF is a measure of how important a term is. We need the IDF value because computing just the **TF alone is not sufficient** to understand the importance of words:\n",
        "\n",
        "\\\n",
        "\n",
        "$$IDF_{t} = log \\ (\\frac{\\text{Total Number of Documents}}{\\text{The Number of Documents with Term $t$}})$$\n",
        "\n",
        "\\\n",
        "\n",
        "A problem with scoring word frequency is that highly frequent words **(‘is’, ‘the’, ‘a’ etc)** start to dominate in the document (e.g. larger score), but may not contain as much **“useful information”** to the model comapre to the rarer but **domain specific words**.\n",
        "\n",
        "\n",
        "One approach is to rescale the frequency of words by **how often they appear in all documents**, so that the scores for frequent words like “the” that are also frequent **across all documents are penalized**.\n",
        "\n",
        "This approach to scoring is called Term Frequency – Inverse Document Frequency, or TF-IDF for short, where:\n",
        "\n",
        "- **Term Frequency:** is a scoring of the frequency of the word in the current document.\n",
        "- **Inverse Document Frequency:** is a scoring of how rare the word is across documents.\n",
        "\n",
        "**Thus the idf of a rare term is high, whereas the idf of a frequent term is likely to be low.**\n",
        "\n",
        "We can calculate the IDF values for **Document 3**:\n",
        "\n",
        "Document 3 :- **it is the time of stupidity.**\n",
        "\n",
        "IDF(‘it’) =  log(total number of documents/number of documents containing the word ‘it’) = log(3/3) = log(1) = 0\n",
        "\n",
        "We can calculate the IDF values for each word like this. Thus, the IDF values for the entire vocabulary would be:\n",
        "\n",
        "|    Term   | Document#1 | Document#2 | Document#3 |  IDF |\n",
        "|:---------:|:----------:|:----------:|:----------:|:----:|\n",
        "|     it    |      1     |      1     |      1     | 0.00 |\n",
        "|    was    |      1     |      1     |      0     | 0.18 |\n",
        "|    the    |      2     |      1     |      1     | 0.00 |\n",
        "|    best   |      1     |      0     |      0     | 0.48 |\n",
        "|     of    |      1     |      1     |      1     | 0.00 |\n",
        "|    time   |      1     |      1     |      1     | 0.00 |\n",
        "|   worst   |      0     |      1     |      0     | 0.48 |\n",
        "|    is     |      0     |      0     |      1     | 0.48 |\n",
        "| stupidity |      0     |      0     |      1     | 0.48 |\n",
        "\n",
        "\\\n",
        "\n",
        "We can now compute the TF-IDF score for each word in the corpus. Words with a higher score are more important, and those with a lower score are less important:\n",
        "\n",
        "$$(TF-IDF)_{t,d} = TF_{t,d} * IDF_{t}$$\n",
        "\n",
        "\n",
        "You can find the overall summary in the following figure.\n",
        "\n",
        "<div align=\"center\">\n",
        "<img src=\"https://drive.google.com/uc?id=1Xw5RlK_RxYtZEQtpFNaePXnJNyQmLcn1\" width=\"680\" height=\"230\">\n",
        "</div>\n",
        "\n",
        "\n",
        "\n",
        "We can now calculate the TF-IDF score for every word in **Document 3**:\n",
        "\n",
        "Document 3 :- **it is the time of stupidity.**\n",
        "\n",
        "TF-IDF(‘it’, Document 3) = TF(‘it’, Document 3) * IDF(‘it’) = 1/6 * 0 = 0\n",
        "\n",
        "Likewise:-\n",
        "\n",
        "- TF(**'it'**) = (1/6) * 0 = 0\n",
        "- TF(**'is'**) = (1/6) * 0.48\n",
        "- TF(**'the'**) = (1/6) * 0 = 0\n",
        "- TF(**'best'**) = (0/6) * 0.48 = 0\n",
        "- TF(**'time'**) = (1/6) * 0 = 0\n",
        "- TF(**'of'**) = (1/6) * 0 = 0\n",
        "- TF(**'stupidity'**) = (1/6) * 0.48\n",
        "\n",
        "Similarly, we can calculate the TF-IDF scores for all the words with respect to all the documents.\n",
        "\n",
        "- First, notice how if there is a very common\n",
        "word that occurs in all documents (i.e., n = N), IDF(w) is 0 and the TF­IDF score is 0, thereby\n",
        "completely penalizing that term.\n",
        "- Second, if a term occurs very rarely, perhaps in only one document,\n",
        "the IDF will be the maximum possible value, log N\n"
      ]
    },
    {
      "cell_type": "code",
      "execution_count": null,
      "metadata": {
        "colab": {
          "base_uri": "https://localhost:8080/",
          "height": 698
        },
        "id": "fenTEvLMcQjj",
        "outputId": "78202cda-6152-4d23-b675-5c6882b70af6"
      },
      "outputs": [
        {
          "output_type": "stream",
          "name": "stdout",
          "text": [
            "[[0.         0.         0.         0.         0.         0.\n",
            "  0.         0.27569246 0.27569246 0.         0.         0.\n",
            "  0.20967122 0.         0.         0.         0.         0.27569246\n",
            "  0.27569246 0.27569246 0.         0.27569246 0.27569246 0.20967122\n",
            "  0.         0.27569246 0.         0.27569246 0.27569246 0.\n",
            "  0.27569246 0.27569246]\n",
            " [0.20829358 0.         0.20829358 0.20829358 0.20829358 0.\n",
            "  0.         0.         0.         0.15841263 0.20829358 0.\n",
            "  0.15841263 0.62488073 0.20829358 0.20829358 0.20829358 0.\n",
            "  0.         0.         0.         0.         0.         0.31682527\n",
            "  0.20829358 0.         0.15841263 0.         0.         0.20829358\n",
            "  0.         0.        ]\n",
            " [0.         0.40301621 0.         0.         0.         0.40301621\n",
            "  0.40301621 0.         0.         0.30650422 0.         0.40301621\n",
            "  0.         0.         0.         0.         0.         0.\n",
            "  0.         0.         0.40301621 0.         0.         0.\n",
            "  0.         0.         0.30650422 0.         0.         0.\n",
            "  0.         0.        ]]\n",
            "{'woman': 30, 'finds': 7, 'pot': 19, 'of': 17, 'treasure': 27, 'on': 18, 'the': 25, 'road': 22, 'while': 28, 'she': 23, 'is': 12, 'returning': 21, 'from': 8, 'work': 31, 'delighted': 4, 'with': 29, 'her': 9, 'luck': 16, 'decides': 3, 'to': 26, 'keep': 14, 'it': 13, 'as': 0, 'taking': 24, 'home': 10, 'keeps': 15, 'changing': 2, 'however': 11, 'enthusiasm': 5, 'refuses': 20, 'fade': 6, 'away': 1}\n",
            "['as', 'away', 'changing', 'decides', 'delighted', 'enthusiasm', 'fade', 'finds', 'from', 'her', 'home', 'however', 'is', 'it', 'keep', 'keeps', 'luck', 'of', 'on', 'pot', 'refuses', 'returning', 'road', 'she', 'taking', 'the', 'to', 'treasure', 'while', 'with', 'woman', 'work']\n"
          ]
        },
        {
          "output_type": "execute_result",
          "data": {
            "text/plain": [
              "<matplotlib.axes._subplots.AxesSubplot at 0x7f6df982c3a0>"
            ]
          },
          "metadata": {},
          "execution_count": 7
        },
        {
          "output_type": "display_data",
          "data": {
            "text/plain": [
              "<Figure size 432x288 with 1 Axes>"
            ],
            "image/png": "[encoded data removed]"
          },
          "metadata": {
            "needs_background": "light"
          }
        }
      ],
      "source": [
        "from sklearn.feature_extraction.text import TfidfVectorizer\n",
        "import seaborn as sns\n",
        "import matplotlib as plt\n",
        "\n",
        "corpus = ['A woman finds a pot of treasure on the road while she is returning from work.',\n",
        "'Delighted with her luck, she decides to keep it. As she is taking it home, it keeps changing.',\n",
        "'However, her enthusiasm refuses to fade away.']\n",
        "\n",
        "tfidf_vectorizer = TfidfVectorizer()\n",
        "tfidf = tfidf_vectorizer.fit_transform(corpus).toarray()\n",
        "\n",
        "print (tfidf)\n",
        "\n",
        "print (tfidf_vectorizer.vocabulary_)\n",
        "\n",
        "dictionary = sorted(tfidf_vectorizer.vocabulary_)\n",
        "\n",
        "print(dictionary)\n",
        "\n",
        "\n",
        "sns.heatmap(tfidf, annot=True, cbar=False,linewidths=.5, xticklabels=dictionary,\n",
        "                                           yticklabels=['Sentence 1','Sentence 2','Sentence 3'])"
      ]
    },
    {
      "cell_type": "markdown",
      "metadata": {
        "id": "z8lmJxHdUkQ_"
      },
      "source": [
        "### Summary\n",
        "\n",
        "Bag of Words just creates a set of vectors containing the count of word occurrences in the document, while the TF-IDF model contains information on the more important words and the less important ones as well.\n",
        "\n",
        "**Bag of Words vectors are easy to interpret. However, TF-IDF usually performs better in machine learning models.**\n",
        "\n",
        "Understanding the context of words is important. Detecting the similarity between the words ‘time’ and ‘age’, or 'stupidity' and 'foolishness'.\n",
        "\n",
        "This is where Word Embedding techniques such as **Word2Vec, Continuous Bag of Words (CBOW), Skipgram**, etc come into play."
      ]
    },
    {
      "cell_type": "markdown",
      "metadata": {
        "id": "ldSJsxgTaNQG"
      },
      "source": [
        "## Bag-of-Words Text Classification\n",
        "\n",
        "We will show how to build a simple Bag of Words (BoW) text classifier using PyTorch. The classifier is trained on IMDB movie reviews dataset."
      ]
    },
    {
      "cell_type": "code",
      "execution_count": null,
      "metadata": {
        "id": "DxbiSycDaVra"
      },
      "outputs": [],
      "source": [
        "from pathlib import Path\n",
        "\n",
        "import pandas as pd\n",
        "import torch\n",
        "import torch.nn as nn\n",
        "import torch.optim as optim\n",
        "from google_drive_downloader import GoogleDriveDownloader as gdd\n",
        "from torch.utils.data import DataLoader, Dataset\n",
        "from sklearn.feature_extraction.text import CountVectorizer"
      ]
    },
    {
      "cell_type": "code",
      "execution_count": null,
      "metadata": {
        "colab": {
          "base_uri": "https://localhost:8080/"
        },
        "id": "YjcmgT59vmrL",
        "outputId": "a719427f-bf96-44ef-be33-3d8e5dcdaaeb"
      },
      "outputs": [
        {
          "output_type": "execute_result",
          "data": {
            "text/plain": [
              "device(type='cpu')"
            ]
          },
          "metadata": {},
          "execution_count": 2
        }
      ],
      "source": [
        "device = torch.device('cuda' if torch.cuda.is_available() else 'cpu')\n",
        "device"
      ]
    },
    {
      "cell_type": "code",
      "execution_count": null,
      "metadata": {
        "id": "PmcpVQ_7adaz"
      },
      "outputs": [],
      "source": [
        "# DATA_PATH = '/content/imdb.csv'\n",
        "# if not Path(DATA_PATH).is_file():\n",
        "#     gdd.download_file_from_google_drive(\n",
        "#         file_id='1EWReHFoPXK2Z-zdELR_LC6J6VRgp-QgN',\n",
        "#         dest_path=DATA_PATH,\n",
        "#     )"
      ]
    },
    {
      "cell_type": "code",
      "execution_count": null,
      "metadata": {
        "id": "WG5a0eI4bKMe",
        "colab": {
          "base_uri": "https://localhost:8080/"
        },
        "outputId": "9bda7c79-8fb9-4384-fb88-e9cee089bca7"
      },
      "outputs": [
        {
          "output_type": "stream",
          "name": "stdout",
          "text": [
            "                                              review sentiment\n",
            "0  One of the other reviewers has mentioned that ...  positive\n",
            "1  A wonderful little production. <br /><br />The...  positive\n",
            "2  I thought this was a wonderful way to spend ti...  positive\n",
            "3  Basically there's a family where a little boy ...  negative\n",
            "4  Petter Mattei's \"Love in the Time of Money\" is...  positive\n"
          ]
        }
      ],
      "source": [
        "# Upload imdb.csv file in colab\n",
        "DATA_PATH = '/content/imdb.csv'\n",
        "import pandas as pd\n",
        "df=pd.read_csv(DATA_PATH)\n",
        "print(df.head())"
      ]
    },
    {
      "cell_type": "code",
      "source": [
        "import numpy as np\n",
        "x=np.array(pd)\n",
        "print(x)"
      ],
      "metadata": {
        "colab": {
          "base_uri": "https://localhost:8080/"
        },
        "id": "h7sHruRE6Lvu",
        "outputId": "2ad5a0d6-b5f9-4efb-a219-d10869a11c0f"
      },
      "execution_count": null,
      "outputs": [
        {
          "output_type": "stream",
          "name": "stdout",
          "text": [
            "<module 'pandas' from '/usr/local/lib/python3.8/dist-packages/pandas/__init__.py'>\n"
          ]
        }
      ]
    },
    {
      "cell_type": "markdown",
      "metadata": {
        "id": "GFHFNXnTosld"
      },
      "source": [
        "## Bag-of-Words Sentiment Classification\n",
        "\n",
        "<div align=\"center\">\n",
        "<img src=\"https://drive.google.com/uc?id=1DpUpmKZGNAtoY7FH7PNKbZK-0FukGuuM\" width=\"390\" height=\"360\">\n",
        "</div>\n",
        "\n",
        "So the final bag-of-words vector for `['the', 'gray', 'cat', 'sat', 'on', 'the', 'gray', 'mat']` is `[0, 1, 1, 2, 2, 1, 0, 1]`"
      ]
    },
    {
      "cell_type": "code",
      "execution_count": null,
      "metadata": {
        "id": "pY5h7gotsHRF"
      },
      "outputs": [],
      "source": [
        "class Sequences(Dataset):\n",
        "    def __init__(self, data):\n",
        "        self.vectorizer = CountVectorizer(stop_words='english')\n",
        "        self.sequences = self.vectorizer.fit_transform(data.review.tolist())\n",
        "        self.labels = data.sentiment.tolist()\n",
        "        self.token2idx = self.vectorizer.vocabulary_\n",
        "        self.idx2token = {idx: token for token, idx in self.token2idx.items()}\n",
        "\n",
        "    def __getitem__(self, i):\n",
        "        return self.sequences[i, :].toarray(), self.labels[i]\n",
        "\n",
        "    def __len__(self):\n",
        "        return self.sequences.shape[0]"
      ]
    },
    {
      "cell_type": "code",
      "execution_count": null,
      "metadata": {
        "id": "vxmg5kkfsXzx",
        "colab": {
          "base_uri": "https://localhost:8080/"
        },
        "outputId": "d00e7b3a-b6aa-4d4b-93d6-c628e772d6f0"
      },
      "outputs": [
        {
          "output_type": "stream",
          "name": "stdout",
          "text": [
            "                                                 review sentiment\n",
            "0     One of the other reviewers has mentioned that ...  positive\n",
            "1     A wonderful little production. <br /><br />The...  positive\n",
            "2     I thought this was a wonderful way to spend ti...  positive\n",
            "3     Basically there's a family where a little boy ...  negative\n",
            "4     Petter Mattei's \"Love in the Time of Money\" is...  positive\n",
            "...                                                 ...       ...\n",
            "1494  Zoey 101 is basically about a girl named Zoey ...  negative\n",
            "1495  This movie is terrible, it was so difficult to...  negative\n",
            "1496  The only thing serious about this movie is the...  positive\n",
            "1497  2005 was one of the best year for movies. We h...  positive\n",
            "1498  According to John Ford's lyrically shot, ficti...  positive\n",
            "\n",
            "[1499 rows x 2 columns]\n",
            "                                                review  sentiment\n",
            "0    One of the other reviewers has mentioned that ...          1\n",
            "1    A wonderful little production. <br /><br />The...          1\n",
            "2    I thought this was a wonderful way to spend ti...          1\n",
            "3    Basically there's a family where a little boy ...          0\n",
            "4    Petter Mattei's \"Love in the Time of Money\" is...          1\n",
            "..                                                 ...        ...\n",
            "895  But it is kinda hilarious, at least if you gre...          1\n",
            "896  One of the two Best Films of the year. A well ...          1\n",
            "897  I managed to see this at the New York Internat...          1\n",
            "898  Why else would he do this to me?<br /><br />No...          0\n",
            "899  Minimal script, minimal character development,...          0\n",
            "\n",
            "[900 rows x 2 columns]\n"
          ]
        }
      ],
      "source": [
        "df = pd.read_csv(DATA_PATH)\n",
        "\n",
        "print((df))\n",
        "codes=[0,1]\n",
        "df.columns = [\"review\", \"sentiment\"]\n",
        "df[\"sentiment\"] = df[\"sentiment\"].astype('category')\n",
        "df[\"sentiment\"] = df[\"sentiment\"].cat.codes\n",
        "\n",
        "df_train = df.head(900)\n",
        "df_test = df.tail(100)\n",
        "print(df_train)\n",
        "dataset = Sequences(df_train)\n",
        "\n",
        "train_loader = DataLoader(dataset, batch_size=900)"
      ]
    },
    {
      "cell_type": "code",
      "execution_count": null,
      "metadata": {
        "id": "onjnJ4DSwKKM"
      },
      "outputs": [],
      "source": [
        "class BagOfWordsClassifier(nn.Module):\n",
        "    def __init__(self, vocab_size, hidden1, hidden2):\n",
        "        super().__init__()\n",
        "        ### 1st hidden layer: vocab_size --> 128\n",
        "        self.linear_1 = nn.Linear(vocab_size, hidden1)\n",
        "        ### Non-linearity in 1st hidden layer\n",
        "        self.relu_1 = nn.ReLU()\n",
        "\n",
        "        ### 2nd hidden layer: 128 --> 64\n",
        "        self.linear_2 = nn.Linear(hidden1, hidden2)\n",
        "        ### Non-linearity in 2nd hidden layer\n",
        "        self.relu_2 = nn.ReLU()\n",
        "\n",
        "        ### Output layer: 64 --> 1\n",
        "        self.linear_out = nn.Linear(hidden2, 1)\n",
        "\n",
        "    def forward(self, inputs):\n",
        "        ### 1st hidden layer\n",
        "        out = self.linear_1(inputs.squeeze(1).float())\n",
        "        ### Non-linearity in 1st hidden layer\n",
        "        out = self.relu_1(out)\n",
        "\n",
        "        ### 2nd hidden layer\n",
        "        out = self.linear_2(out)\n",
        "        ### Non-linearity in 2nd hidden layer\n",
        "        out = self.relu_2(out)\n",
        "\n",
        "        # Linear layer (output)\n",
        "        logits  = self.linear_out(out)\n",
        "\n",
        "        return logits"
      ]
    },
    {
      "cell_type": "code",
      "execution_count": null,
      "metadata": {
        "id": "tNF7hhnBwezw",
        "colab": {
          "base_uri": "https://localhost:8080/"
        },
        "outputId": "3697b541-3ebb-4f94-d3f6-21af4e9921c5"
      },
      "outputs": [
        {
          "output_type": "execute_result",
          "data": {
            "text/plain": [
              "BagOfWordsClassifier(\n",
              "  (linear_1): Linear(in_features=16683, out_features=128, bias=True)\n",
              "  (relu_1): ReLU()\n",
              "  (linear_2): Linear(in_features=128, out_features=64, bias=True)\n",
              "  (relu_2): ReLU()\n",
              "  (linear_out): Linear(in_features=64, out_features=1, bias=True)\n",
              ")"
            ]
          },
          "metadata": {},
          "execution_count": 8
        }
      ],
      "source": [
        "model = BagOfWordsClassifier(len(dataset.token2idx), 128, 64)\n",
        "model"
      ]
    },
    {
      "cell_type": "code",
      "execution_count": null,
      "metadata": {
        "id": "sQMZsHtSwxj_"
      },
      "outputs": [],
      "source": [
        "criterion = nn.BCEWithLogitsLoss()\n",
        "optimizer = optim.Adam(model.parameters(), lr=0.001)"
      ]
    },
    {
      "cell_type": "code",
      "execution_count": null,
      "metadata": {
        "id": "t9ccPB4Mw2th",
        "colab": {
          "base_uri": "https://localhost:8080/"
        },
        "outputId": "fea4324e-626d-4f51-8bad-67c7951b6c9d"
      },
      "outputs": [
        {
          "output_type": "stream",
          "name": "stdout",
          "text": [
            "Epoch #1\tTrain Loss: 0.693\n",
            "Epoch #2\tTrain Loss: 0.676\n",
            "Epoch #3\tTrain Loss: 0.654\n",
            "Epoch #4\tTrain Loss: 0.626\n",
            "Epoch #5\tTrain Loss: 0.592\n",
            "Epoch #6\tTrain Loss: 0.555\n",
            "Epoch #7\tTrain Loss: 0.514\n",
            "Epoch #8\tTrain Loss: 0.472\n",
            "Epoch #9\tTrain Loss: 0.428\n",
            "Epoch #10\tTrain Loss: 0.384\n",
            "Epoch #11\tTrain Loss: 0.341\n",
            "Epoch #12\tTrain Loss: 0.300\n",
            "Epoch #13\tTrain Loss: 0.261\n",
            "Epoch #14\tTrain Loss: 0.225\n",
            "Epoch #15\tTrain Loss: 0.192\n",
            "Epoch #16\tTrain Loss: 0.162\n",
            "Epoch #17\tTrain Loss: 0.136\n",
            "Epoch #18\tTrain Loss: 0.113\n",
            "Epoch #19\tTrain Loss: 0.094\n",
            "Epoch #20\tTrain Loss: 0.077\n",
            "Epoch #21\tTrain Loss: 0.063\n",
            "Epoch #22\tTrain Loss: 0.052\n",
            "Epoch #23\tTrain Loss: 0.043\n",
            "Epoch #24\tTrain Loss: 0.035\n",
            "Epoch #25\tTrain Loss: 0.029\n",
            "Epoch #26\tTrain Loss: 0.024\n",
            "Epoch #27\tTrain Loss: 0.020\n",
            "Epoch #28\tTrain Loss: 0.016\n",
            "Epoch #29\tTrain Loss: 0.014\n",
            "Epoch #30\tTrain Loss: 0.012\n",
            "Epoch #31\tTrain Loss: 0.010\n",
            "Epoch #32\tTrain Loss: 0.008\n",
            "Epoch #33\tTrain Loss: 0.007\n",
            "Epoch #34\tTrain Loss: 0.006\n",
            "Epoch #35\tTrain Loss: 0.005\n",
            "Epoch #36\tTrain Loss: 0.005\n",
            "Epoch #37\tTrain Loss: 0.004\n",
            "Epoch #38\tTrain Loss: 0.004\n",
            "Epoch #39\tTrain Loss: 0.003\n",
            "Epoch #40\tTrain Loss: 0.003\n",
            "Epoch #41\tTrain Loss: 0.003\n",
            "Epoch #42\tTrain Loss: 0.002\n",
            "Epoch #43\tTrain Loss: 0.002\n",
            "Epoch #44\tTrain Loss: 0.002\n",
            "Epoch #45\tTrain Loss: 0.002\n",
            "Epoch #46\tTrain Loss: 0.002\n",
            "Epoch #47\tTrain Loss: 0.002\n",
            "Epoch #48\tTrain Loss: 0.001\n",
            "Epoch #49\tTrain Loss: 0.001\n",
            "Epoch #50\tTrain Loss: 0.001\n",
            "Epoch #51\tTrain Loss: 0.001\n",
            "Epoch #52\tTrain Loss: 0.001\n",
            "Epoch #53\tTrain Loss: 0.001\n",
            "Epoch #54\tTrain Loss: 0.001\n",
            "Epoch #55\tTrain Loss: 0.001\n",
            "Epoch #56\tTrain Loss: 0.001\n",
            "Epoch #57\tTrain Loss: 0.001\n",
            "Epoch #58\tTrain Loss: 0.001\n",
            "Epoch #59\tTrain Loss: 0.001\n",
            "Epoch #60\tTrain Loss: 0.001\n",
            "Epoch #61\tTrain Loss: 0.001\n",
            "Epoch #62\tTrain Loss: 0.001\n",
            "Epoch #63\tTrain Loss: 0.001\n",
            "Epoch #64\tTrain Loss: 0.001\n",
            "Epoch #65\tTrain Loss: 0.001\n",
            "Epoch #66\tTrain Loss: 0.001\n",
            "Epoch #67\tTrain Loss: 0.001\n",
            "Epoch #68\tTrain Loss: 0.001\n",
            "Epoch #69\tTrain Loss: 0.001\n",
            "Epoch #70\tTrain Loss: 0.001\n",
            "Epoch #71\tTrain Loss: 0.001\n",
            "Epoch #72\tTrain Loss: 0.001\n",
            "Epoch #73\tTrain Loss: 0.001\n",
            "Epoch #74\tTrain Loss: 0.001\n",
            "Epoch #75\tTrain Loss: 0.001\n",
            "Epoch #76\tTrain Loss: 0.001\n",
            "Epoch #77\tTrain Loss: 0.000\n",
            "Epoch #78\tTrain Loss: 0.000\n",
            "Epoch #79\tTrain Loss: 0.000\n",
            "Epoch #80\tTrain Loss: 0.000\n",
            "Epoch #81\tTrain Loss: 0.000\n",
            "Epoch #82\tTrain Loss: 0.000\n",
            "Epoch #83\tTrain Loss: 0.000\n",
            "Epoch #84\tTrain Loss: 0.000\n",
            "Epoch #85\tTrain Loss: 0.000\n",
            "Epoch #86\tTrain Loss: 0.000\n",
            "Epoch #87\tTrain Loss: 0.000\n",
            "Epoch #88\tTrain Loss: 0.000\n",
            "Epoch #89\tTrain Loss: 0.000\n",
            "Epoch #90\tTrain Loss: 0.000\n",
            "Epoch #91\tTrain Loss: 0.000\n",
            "Epoch #92\tTrain Loss: 0.000\n",
            "Epoch #93\tTrain Loss: 0.000\n",
            "Epoch #94\tTrain Loss: 0.000\n",
            "Epoch #95\tTrain Loss: 0.000\n",
            "Epoch #96\tTrain Loss: 0.000\n",
            "Epoch #97\tTrain Loss: 0.000\n",
            "Epoch #98\tTrain Loss: 0.000\n",
            "Epoch #99\tTrain Loss: 0.000\n",
            "Epoch #100\tTrain Loss: 0.000\n",
            "Epoch #101\tTrain Loss: 0.000\n",
            "Epoch #102\tTrain Loss: 0.000\n",
            "Epoch #103\tTrain Loss: 0.000\n",
            "Epoch #104\tTrain Loss: 0.000\n",
            "Epoch #105\tTrain Loss: 0.000\n",
            "Epoch #106\tTrain Loss: 0.000\n",
            "Epoch #107\tTrain Loss: 0.000\n",
            "Epoch #108\tTrain Loss: 0.000\n",
            "Epoch #109\tTrain Loss: 0.000\n",
            "Epoch #110\tTrain Loss: 0.000\n",
            "Epoch #111\tTrain Loss: 0.000\n",
            "Epoch #112\tTrain Loss: 0.000\n",
            "Epoch #113\tTrain Loss: 0.000\n",
            "Epoch #114\tTrain Loss: 0.000\n",
            "Epoch #115\tTrain Loss: 0.000\n",
            "Epoch #116\tTrain Loss: 0.000\n",
            "Epoch #117\tTrain Loss: 0.000\n",
            "Epoch #118\tTrain Loss: 0.000\n",
            "Epoch #119\tTrain Loss: 0.000\n",
            "Epoch #120\tTrain Loss: 0.000\n",
            "Epoch #121\tTrain Loss: 0.000\n",
            "Epoch #122\tTrain Loss: 0.000\n",
            "Epoch #123\tTrain Loss: 0.000\n",
            "Epoch #124\tTrain Loss: 0.000\n",
            "Epoch #125\tTrain Loss: 0.000\n",
            "Epoch #126\tTrain Loss: 0.000\n",
            "Epoch #127\tTrain Loss: 0.000\n",
            "Epoch #128\tTrain Loss: 0.000\n",
            "Epoch #129\tTrain Loss: 0.000\n",
            "Epoch #130\tTrain Loss: 0.000\n",
            "Epoch #131\tTrain Loss: 0.000\n",
            "Epoch #132\tTrain Loss: 0.000\n",
            "Epoch #133\tTrain Loss: 0.000\n",
            "Epoch #134\tTrain Loss: 0.000\n",
            "Epoch #135\tTrain Loss: 0.000\n",
            "Epoch #136\tTrain Loss: 0.000\n",
            "Epoch #137\tTrain Loss: 0.000\n",
            "Epoch #138\tTrain Loss: 0.000\n",
            "Epoch #139\tTrain Loss: 0.000\n",
            "Epoch #140\tTrain Loss: 0.000\n",
            "Epoch #141\tTrain Loss: 0.000\n",
            "Epoch #142\tTrain Loss: 0.000\n",
            "Epoch #143\tTrain Loss: 0.000\n",
            "Epoch #144\tTrain Loss: 0.000\n",
            "Epoch #145\tTrain Loss: 0.000\n",
            "Epoch #146\tTrain Loss: 0.000\n",
            "Epoch #147\tTrain Loss: 0.000\n",
            "Epoch #148\tTrain Loss: 0.000\n",
            "Epoch #149\tTrain Loss: 0.000\n",
            "Epoch #150\tTrain Loss: 0.000\n"
          ]
        }
      ],
      "source": [
        "\n",
        "train_losses = []\n",
        "\n",
        "for epoch in range(150):\n",
        "    losses = []\n",
        "    total = 0\n",
        "    for inputs, target in train_loader:\n",
        "        model.zero_grad()\n",
        "        #print(target)\n",
        "        output = model(inputs)\n",
        "        loss = criterion(output.squeeze(), target.float())\n",
        "\n",
        "        loss.backward()\n",
        "\n",
        "        optimizer.step()\n",
        "\n",
        "        losses.append(loss.item())\n",
        "        total += 1\n",
        "\n",
        "    epoch_loss = sum(losses) / total\n",
        "    train_losses.append(epoch_loss)\n",
        "\n",
        "    print(f'Epoch #{epoch + 1}\\tTrain Loss: {epoch_loss:.3f}')"
      ]
    },
    {
      "cell_type": "code",
      "execution_count": null,
      "metadata": {
        "id": "If94hZmkyPv3"
      },
      "outputs": [],
      "source": [
        "def predict_sentiment(text):\n",
        "  test_vector = torch.LongTensor(dataset.vectorizer.transform([text]).toarray())\n",
        "\n",
        "  output = model(test_vector)\n",
        "\n",
        "  prediction = torch.sigmoid(output).item()\n",
        "\n",
        "  if prediction > 0.5:\n",
        "    print(f'{prediction:0.3}: Positive sentiment')\n",
        "    return 1\n",
        "  else:\n",
        "    print(f'{prediction:0.3}: Negative sentiment')\n",
        "    return 0"
      ]
    },
    {
      "cell_type": "code",
      "execution_count": null,
      "metadata": {
        "colab": {
          "base_uri": "https://localhost:8080/"
        },
        "id": "D6WguymwyRI4",
        "outputId": "3a602961-415a-4b5d-d61f-ff5c90c9f56d"
      },
      "outputs": [
        {
          "output_type": "stream",
          "name": "stdout",
          "text": [
            "0.332: Negative sentiment\n"
          ]
        },
        {
          "output_type": "execute_result",
          "data": {
            "text/plain": [
              "0"
            ]
          },
          "metadata": {},
          "execution_count": 14
        }
      ],
      "source": [
        "test_text = \"The story itself is just predictable and lazy.\"\n",
        "predict_sentiment(test_text)"
      ]
    },
    {
      "cell_type": "code",
      "execution_count": null,
      "metadata": {
        "colab": {
          "base_uri": "https://localhost:8080/"
        },
        "id": "sp0y6FGpyfLs",
        "outputId": "f598a615-520b-4975-b8e5-9e208e904962"
      },
      "outputs": [
        {
          "output_type": "stream",
          "name": "stdout",
          "text": [
            "0.78: Positive sentiment\n"
          ]
        },
        {
          "output_type": "execute_result",
          "data": {
            "text/plain": [
              "1"
            ]
          },
          "metadata": {},
          "execution_count": 15
        }
      ],
      "source": [
        "test_text = \"Excellent cast, story line, performances.\"\n",
        "predict_sentiment(test_text)"
      ]
    },
    {
      "cell_type": "code",
      "execution_count": null,
      "metadata": {
        "id": "OKOTAy4r4hN9"
      },
      "outputs": [],
      "source": [
        "from sklearn.metrics import accuracy_score\n",
        "from sklearn.metrics import precision_score\n",
        "from sklearn.metrics import recall_score\n",
        "from sklearn.metrics import f1_score\n",
        "from sklearn.metrics import cohen_kappa_score\n",
        "from sklearn.metrics import roc_auc_score\n",
        "from sklearn.metrics import confusion_matrix"
      ]
    },
    {
      "cell_type": "code",
      "source": [
        "from sklearn.metrics import classification_report"
      ],
      "metadata": {
        "id": "NeJMRuBnh5To"
      },
      "execution_count": null,
      "outputs": []
    },
    {
      "cell_type": "code",
      "execution_count": null,
      "metadata": {
        "colab": {
          "base_uri": "https://localhost:8080/"
        },
        "id": "Kc0mUdNw4h0X",
        "outputId": "8593fb2c-a069-4bef-9cec-b88578ce1072"
      },
      "outputs": [
        {
          "output_type": "stream",
          "name": "stdout",
          "text": [
            "[\"I love this show as it action packed with adventure, love and intrigue. Well some times love! It's so good see a show where all the characters work well together and they treat each other with respect. It's also very good to se Dick Van Dyke in a television role as I have only seen him in Mary Poppins. the mixture of the main characters, Mark, Amanda, Jesse and Steve is very capturing to the audience. This is a show you have to watch!\", 'I saw the movie before I read the Michelle Magorian book and I enjoyed both. The movie, more than the book, made me come close to tears on several occasions. This film touches the deepest points of the human soul and never lets go. I encourage as many people to watch this masterpiece as much and as soon as possible. I give it ten stars.', \"Some unsuspecting films carry a message that resonates in the hours and days after viewing. Such is the case for CAROL'S JOURNEY (EL VIAJE DE CAROL), a beautifully crafted 2002 film from Spain based on the novel 'A boca de noche' by Ángel García Roldán who also adapted the book as a screenplay. War and its consequences are not new subject matter for films, but when that war theme plays in the background as a subtle driving force to develop characters (especially children) who must face adult life influenced by the games of adults, the result is a different and more tender examination of the coming of age film genre.<br /><br />Carol (Clara Lago) is a 12-year-old Spanish American youngster from New York who with her critically ill mother Aurora (María Barranco) returns to her Aurora's home in 1938 at the height of the Spanish Civil War, a home that has been left deserted by her father Don Amalio (Álvaro de Luna) since his wife's death. Carol's father Robert (Ben Temple) is a fighter pilot who has sided with the Republicans against Franco and is rarely with his family. Aurora has a past: she left her lover Alfonso (Alberto Jiménez) to marry Robert, and Alfonso in turn married Aurora's cold sister Dolores (Lucina Gil). Carol is an independent girl who remains aloof to all but her grandfather Don Amalio until she meets others her age but not of her 'class': Tomiche (Juan José Ballesta) and his two friends at first resent Carol, but as events develop Carol and Tomiche are bonded by what feels like the first awakenings of love. When Aurora dies of her illness, Carol must live with Alfonso and Dolores and their daughter Blanca (Luna McGill), yet turns to her grandfather for support and to her mother's best friend and teacher Maruja (the always radiant Rosa Maria Sardà) to understand the disparity between classes and the senseless war that keeps her beloved father from her side. Through a series of incidents Carol and Tomiche learn the rigors of becoming adults, facing more traumas in a brief period of the war than most of us experience in a lifetime. The ending, though sad, is uplifting as Carol's journey to maturity is complete.<br /><br />The film is shot in Galicia and Portugal and contains some extraordinarily beautiful settings captured with gentle sensitive lighting by cinematographer Gonzalo F. Berridi and enhanced by the musical score by Bingen Mendizábal. Director Imanol Uribe understands the fine line separating pathos from bathos, and in electing to concentrate the story on the children involved, he makes an even stronger statement about the futility and cruelty of war. The cast is exceptional: the stars clearly are young Clara Lago and Juan José Ballesta, but they are supported by the fine veteran actors in the adult roles. This is a visually stunning work with a lasting message and should find a much larger audience than it has to this date. Grady Harp\", \"ROAD TO PERDITION can be summed up by Thomas Newman's score . It's haunting and beautiful but you're aware that this music is similar to Newman's other work and while listening to the soundtrack you're reminded of SCENT OF A WOMAN , MEETING JOE BLACK and THE SHAWSHANK REDEMPTION you're reminded of other films as the story unfolds on screen . As the Sullivans drive round America trying to escape from a psychotic hit man you think of THE GETAWAY , Irish gangsters is MILLER'S CROSSING whilst the subtext of guilt and redemption can be summed up by Coppola and Leone's gangster epics. Despite having a seen it all before feel this shouldn't be taken as a heavy criticism of Sam Mendes film which I repeat is haunting and beautiful and the only flaws that work against it is a very slow opening twenty minutes and I was slightly confused as the events that caused Michael Sullivan to be betrayed . But if you stop to consider how much of a sentimental mess Spielberg might have made with the story that revolves around a father and his twelve year old son running for their lives you can't help thinking what a superb director Mendes is <br /><br />ROAD TO PERDITION is a film where the entire cast give flawless performances . I've never been all that keen on Tom Hanks but he's every bit as good here as he has been in any starring role , probably better . Paul Newman plays a character with an Irish accent but at no point did I believe I was watching an American screen legend putting on a false accent - Newman's performance works due to the subtle body language , his character is torn up by guilt but Newman never milks it or goes over the top . While never upstaging Newman who gives the best performance in the movie the two Brit supporting actors Craig and Law are also very memorable as American gangsters and while Law will still have a long career as a leading actor one wonders how Daniel Craig might have progressed as a character actor if he hadn't decided to become James Bond , a role which heralds the end of an actors career\", \"The most important thing about this movie is the brilliant performance by Daniel Day-Lewis and Hugh O'Conor as Christy Brown, guineas artist and fighter who despite of her physical condition overcame all the odds. As a person who did work with patients with cerebral palsy, I can assure you that their performance were shockingly convincing. The enormous support that Christy got form his family, low-income, working class Dubliners, encouraged him to do the impossible and this picture depicted this support brilliantly have not read the book, but the dialogs were written wisely to capture Christy Brown's witty arrogant personality. I do recommend this movie to everyone, especially to classic movie-lovers.\", \"I buy or at least watch every Seagall movie. He came out with a handful of good movies then descending into poor stories, bad camera work and a walk-thru persona, he nearly lost me. A few movies ago he remembered how to make a decent movie. Now he's forgotten again. This film is seriously dark (on any level you care to name). There is a lot of slash & gash going on here with no discernible purpose unless it's meant as a warning against the military.<br /><br />Seagall may have had a stand-in for many of his scenes as it was often too dark to tell and someone else's voice was used most of the time. Sadly the only interesting character was the bad guy who killed his guard to escape custody & then proceeded to raise havoc all over the place. Okay since when do we place an armed guard in the holding room with a prisoner? Anyway this bad guy was at least colorful, and very focused. There's lots of gore if you like that king of thing. It looked to me like the bad guys tore the same gash every time. I'm just glad they didn't suck the blood from their hapless victims. I harken you back to my summary. Basically it is a horror movie disguised as an action film.Dec 6,2006\", 'Absolutely stunning, warmth for the head and the heart. The kind of movie western movie makers are too rushed, too frenetic to even attempt. My kids watched it, and they loved it too. What real people--goes to show you how cultural differences (the Japanese setting) is less important than the human similarities. Go see it, whether you like dancing or not.', \"I recently saw this film at a 3-D film festival in Hollywood. It was in polarized 3-D (Gray glasses not red & blue) It was so much fun to watch this film with an audience, the print was excellent and the 3-D perfect. The performances were over the top and that added to the fun, the surprise ending (that we aren't supposed to share with fellow movie go'ers, at least according to the movie trailer and poster) had people howling with laughter. By today's standards this is probably more comedy than horror but with the added dimension of 3-D (complete with cobwebs and bats coming out of the screen) this film was an entertaining romp into 50's horror.\", 'Michael Stearns plays Mike, a sexually frustrated individual with an interesting moral attitude towards sexuality. He has no problem ogling naked dancers but when women start having sex with men that\\'s when he loses it. He believes that when women actually have sex that\\'s when they lose any sense of \"innocence\" and/or \"beauty\". So he strolls through the Hollywood Hills stalking lovemaking couples at a distance, ultimately shooting the men dead with a high-powered rifle with a scope.<br /><br />The seeming primary reason for this movie\\'s existence is to indulge in sexual activity over and over again. The \"story\" comes off as more of an afterthought. This is bound to make many a happily heterosexual male quite pleased as we\\'re treated to enough protracted scenes of nudity (the ladies here look awfully good sans clothes) and sex to serve as a major dose of titillation. Of course, seeing a fair deal of it through a scope ups the creepiness factor considerably and illustrates the compulsion towards voyeurism. (For one thing, Mike eyes the couples through the scope for minutes at a time before finally pulling the trigger.) This is all underscored by awfully intrusive if somewhat atmospheric music on the soundtrack.<br /><br />Those with a penchant for lurid trash are bound to enjoy this to one degree or another. It even includes one lesbian tryst that confounds Mike and renders him uncertain *how* to react. It unfolds at a very slow pace, but wraps up with a most amusing ironic twist. It\\'s a kinky and twisted rarity that if nothing else is going to definitely keep some viewers glued to the screen.<br /><br />7/10', \"I saw this film as a kid about 30 years ago, and I haven't forgotten it to this day. I couldn't say whether it's a good picture. But in those days I instantly fell in love with Jean Simmons. The memories concentrate on the very erotic feel of the movie, but I still remember the plot. Simmons was very young then, and there is another film that gave me the same feeling: David Lean's GREAT EXPECTATIONS. And again it was the young Jean Simmons. It's a pity that BLUE LAGOON is not available on video; I'd like to correct my memories...\", \"Feels like an impressionistic film; if there is such a thing.<br /><br />The story is well told, very poetic. the characters well developed and well acted by the interpreters (or interpreted by the actors :)).<br /><br />The film delights in its own sumptuous emotions at times and works well, unless you hate such emotion in movies - not so in my case.<br /><br />It's a very humanistic film.<br /><br />The landscape and even the extraordinary situation of the displaced cook are very poetic in their own right.<br /><br />Well done.<br /><br />A good classic for any good film collection.\", 'Oh, how I laughed during those first couple of scenes. This silly little film about an 11 year-old who carries a gun, steals cars, robs stores, burglars houses, extorts money from other kids, burns houses, shoots rats, buys drugs, distributes drugs to his mother and his friends, and then kills a guy. What a great comedy! But it wasn\\'t intended to be a comedy. It was intended as a social drama. How can this be? The events in this film are absurd and ridiculous. The characters are all stereotypes right out of a 4 year-old\\'s comic-strip-induced immature imagination. The dialog is laughable; people talk like morons. It\\'s a very dumb film.<br /><br />The first scenes are indeed very funny, for all the wrong reasons. But the unintentional hilarity of the idiotic premise runs out after a short while, and after that the laughs come only rarely; by that time the viewer can\\'t believe what he is seeing and is alternately amazed and bored by what follows (if he has at least half a brain cell).<br /><br />A short film, but feels like an eternity. The film actually IS a seriously-intended attempt to show the world of a young degenerate, while imitating movies vastly superior to it, like \"Fun\". There is just such an air of phoniness about everything; the kids, the adults, everyone lacks credibility both in their actions and dialog. The kid in the lead mugs his way through the film as though he had seen all the Jimmy Cagney movies at least a hundred times. And, typically enough, the kid isn\\'t portrayed as a reservoir of evil, but, instead, as a misunderstood little artistic talent. But of course. Every young hooligan is misunderstood - society made him bad. Poor child.<br /><br />The film is embarrassing; a collection of stale, occasionally hilarious clichés put together to make a movie that lacks intelligence and meaning. The intellectual level of the film is zero.', \"Lackawanna Blues is a drama through and through. It details the life of a strong woman by the name of Rachel Crosby (S. Epatha Merkerson). Rachel is referred to as Nanny by all who know her, but she could have just as easily been called Wonder Woman. She epitomized strength, will power, confidence and resolve. She owned a home that she used to house just about every type of person that society would reject. Her tenants consisted of a lesbian, a psychotic war veteran, an amputee, and a host of other vagrants that made the home miles away from ordinary. Each successive event Rachel took in stride and handled flawlessly. She wasn't a dictator devoid of compassion, but in fact she was quite the opposite. She displayed compassion almost to a fault by giving shelter and refuge to so many that she seemed to over-extend herself.<br /><br />Merkerson did a good job, but I believe this role was right up her alley anyway. The movie had an even keel never straying from Rachel. There were of course dramatic moments but they were to be expected. Nothing was ever to shocking or profound other than Rachel herself.\", 'San Francisco is a big city with great acting credits. In this one, the filmmakers made no attempt to use the city. They didn\\'t even manage the most basic of realistic details. So I would not recommend it to anyone on the basis of being a San Francisco movie. You will not be thinking \"oh, I\\'ve been there,\" you will be thinking \"how did a two story firetrap/stinky armpit turn into a quiet hotel lobby?\" Some of the leads used East Coast speech styles and affectations. It detracts, but the acting was always competent.<br /><br />The stories seemed to be shot in three distinct styles, at least in the beginning. The Chinatown story was the most effective and interesting. The plot is weak, ripped scene for scene from classy Hong Kong action movies. The originals had a lot more tension and emotional resonance, they were framed and paced better. But the acting is fun and we get to see James Hong and other luminaries.<br /><br />The white boy intro was pointless. I think the filmmakers didn\\'t know what to do with it, so they left it loosely structured and cut it down. The father is an odd attempt at a Berkeley liberal - really, folks, everyone knows it\\'s not \"groovy\" to live in the ghetto - but his segments are the most humorous. They threw away some good opportunities. Educated and embittered on the West Coast, a yuppie jerk here is a different kind of yuppie jerk than they make in New York. They are equally intolerable but always distinguishable. That would have been interesting; this was not.<br /><br />The Hunter\\'s Point intro was the most disappointing. It was the most derivative of the three, and stylistically the most distant from San Francisco. You\\'ve seen it done before and you\\'ve seen it done better. Even the video game was better! <br /><br />Despite the generic non-locality and aimless script, these characters have potential, the actors have talent, and something interesting starts to force its way around the clumsy direction... about ten minutes before the ending. Good concept placed in the wrong hands.<br /><br />PS, there is a missing minority here, see if you can guess which one.', \"No Holds Barred is that movie that when you were nine or ten was the coolest movie this side of arnold schwarzenegger. But then when you grow up and watch it you feel embarrassed that you were so gullible to have liked it. You feel cheated, embarrassed, and stupid. If you have a little brother and you show him this and he tells you it's gay, give him a high five and take him to the strip bar for his eleventh birthday.\", \"This movie stinks majorly. The only reason I gave it a 3 was because the graphics were semi charming. It's total disregard for a plot and the lack of even insubstantial surface character development made it seem like just a bunch of nice drawings. This is by far THE worse anime that came out of Japan. I can't believe they actually put their names on this garbage. What a rip off selling this thing for $20. If you haven't seen this don't bother. If you have, I pity you.\", \"This is probably one of the best Portuguese movies I ever saw... I absolutely enjoyed the plot, because by the way the story was developing, you would get more involved on how their world was really upside-down... There is just only one part that doesn't really seem to fit in the movie, which is the girls' strip... It does not add anything important to the story, it looks like it's just there for a men entertaining purpose. The ending is a bit unexpected, though, at the same time, somewhat expected. If you don't understand, then follow me: after so many strange occurrences, the viewer is so used to oddities, that ending the movie with totally unexpected relationships (Like Mimoso and Susana) sounds totally natural after seeing the rest of the movie. But, most of all, Sorte Nula is a movie that makes you think hard trying to solve the mysterious occourings, laugh your head off with their unlucky lives and mess with your perception of what can happen in just a few minutes, when you turn your back away from something... for all that, I rate it 8/10\", 'Considering the big name cast and lavish production I expected a lot more of this film. The acting for the most part is great, although the story they have to work with is mediocre at best. However the film still warrants watching because of the acting and the stars and some and up and coming young talent.', 'Hated it with all my being. Worst movie ever. Mentally- scarred. Help me. It was that bad.TRUST ME!!!', \"There are two kinds of 1950s musicals. First you have the glossy MGM productions with big names and great music. And then you have the minor league with a less famous cast, less famous music and second rate directors. 'The Girl Can't Help It' belongs to the latter category. Neither Tom Ewell or Edmond O'Brien became famous and Jayne Mansfield was famous for her... well, never mind. Seems like every decade has its share of Bo Dereks or Pamela Andersons. The plot itself is thin as a razorblade and one can't help suspect that it is mostly an attempt to sell records for Fats Domino, Little Richard or others of the 1950s rock acts that appear in the movie. If that music appeals to you this is worth watching. If not, don't bother.\", \"This show is wonderful. It has some of the best writing I ever seen. It has brilliant directing by Dvid Trainer who also directed another smart television series called BOY MEETS WORLD.<br /><br />This show is with out a dought one of the greatest. Like THREE'S COMPANY, ROSEANNE, and the famous COSBY SHOW this will be on television for a long time to come.<br /><br />From it's perfectly crafted jokes to the great performances you would only dream of this is a wonderful show for people who lived in the seventies and the people who didn't. This show appeals to the young and the young at heart. A perfect show.\", 'Okay people, I have to agree with almost everyone else\\'s reviews here. The characters. Are. Stupid. They\\'re ALL stereotypical, and yet have nice clothes and are always skinny.<br /><br />Don\\'t even get me started on Jamie Lynn\\'s role as ZOEY. Zoey is a pretty, popular, tan, blonde young teen who everyone just LOVES! She has a \"rebellious\", great, personality that everyone agrees with no matter how dumb or extreme it is. Most annoying of all: her voice is so darn bubbly and obnoxious. \"OMG!\"<br /><br />Take for example the first episode. The moment she steps onto the huge PCA campus, everyone seems to love her. The boys want to ask her out, the girls want to be her friend, etc. Thinking she\\'s all that, the episode plays out with Zoey always being the center of attention; she is the so-called best player of the unofficial girls basketball team, confident, and has everyone pity her when she weakly gets hit in the face. Oh boo-hoo.<br /><br />My favorite character by far is this whole series is a girl that appears much later into the show, Lauren or something, who is the ONLY person ever introduced in the show to hate Zoey.<br /><br />And Zoey doesn\\'t even seem to be very loyal to her friends sometimes. In one episodes she even calls her friend a freak without EVER apologizing and doesn\\'t show the least bit regret in doing so.<br /><br />Zoey is ALWAYS the best:<br /><br />-Desiging professional T-shirts and backpacks (which become a big hit)<br /><br />-coming up with VERY elaborate schemes BY HERSELF to teach a single person a lesson. <br /><br />-Flawless grades <br /><br />-Taking the blame for stuff that wasn\\'t even related to her just so everyone else could be happy.<br /><br />-Coming up with a commercial that was so good it was put on TV. The list goes on and on...<br /><br />Ugh. She has no acting talent. She\\'s always the perfect person. She acts snotty and rebellious and preppy and...UGH! Can\\'t stand her.<br /><br />Not only that, but everyone in the show always has great clothes. EVEN THE NERD! Her wardrobe is better than mine, and mine is pretty freaking decent.<br /><br />No one cares if everyone at PCA loves you, Zoey, and would do anything for you, even if it meant giving their right arm.<br /><br />BUT regardless of these cardboard characters, the plots are creative. Not everyday things. They\\'re interesting and amusing. The humor is usually good-natured and fun, but the characters are so paper flat that it\\'s hard to enjoy it.<br /><br />This show would be really good if Dan Schnieder put a bit more time thinking of the type of characters he wanted, because they are so typical, so boring that\\'s it\\'s lame and stupid.<br /><br />Point: No one\\'s the least bit overweight, everyone has stylish clothes, Zoey is the definition of Mary-sue, the story lines are well-thought out, and the humor is laughable. But again, I want to emphasize that the characters taint the show. Watch the show if you must, but don\\'t say I didn\\'t warn you if your eyes start to bleed.', 'If Alien, Jurassic Park and countless other sci fi horror movies are your cup of tea, add a lot of sugar and you\\'ll get this one down. The film begins in jolly old England around 1100ad and then jumps to present day California. Our hero Carver (Dean Cain) is the new Security Chief and Military Advisor for a Science Lab 400 feet underground. He arrives (Carver is also a helicopter pilot) with the lead Scientist and we soon find out it\\'s a cloning lab and they have something newly found to clone. Is it a Dinosaur or what? As with the above movies, all hell breaks loose and our characters start getting picked off. The special effects on the Monster are pretty good for a \"direct to video\" movie and Dean Cain does what he gets paid for. But forget the rest of the group as we find out why we have never seen them before. Again, don\\'t go in with high expectations and you\\'ll be ok.', \"I'd like to think myself as a fairly open minded guy and it takes a lot(!) for me to dislike a movie but this one is without a doubt one of the suckiest, crappiest movie I've ever seen!<br /><br />I have no idea what's wrong with the people who gave it such a good rating here (imdb is usually pretty reliable when it comes to ratings)... the only thing I can imagine is that people must've voted during one or more conditions:<br /><br />1. While being shitfaced / stoned out of their minds 2. They've received hard cash for the votes 3. Under gunpoint<br /><br />I can't believe I wasted a good 1 h 45 min of my life for this pathetic excuse for a movie.\", 'If you want to watch a movie and feel good about watching it, then Tigerland is the film for you. I love this movie from top to bottom. This movie\\'s picture-perfect scenes look so real; it\\'s almost like a documentary of something that happened in real life but with drama. Boy, I tell you... REAL drama they actually real \"fought\" in one of the scenes (get the DVD listen to the commentary its not obvious). I see this film as a bunch of desperate young men trying to escape an ill-fated destiny, after watching Saving Private Ryan I have an a appreciation of what an \"ill-fated destiny\" is and know exactly how the men in the film feel. I see this movie as a crossbreed between \"Stand By Me\" and \"Saving Private Ryan.\" What do men do when they are with a situation that\\'s \"hard pressed\" in real life? Some men go crazy, some men cry, some men through fists, others do drugs, some randomly sleep with hookers ruthlessly trying to eradicate the meaning of love from their life, some try drink the pain away, some jump off buildings or bridges, some feel guilty and others feel so much agony it makes them so sick they collapse - physically. This movie has all those desperate emotions rolled into one ball. But don\\'t get me wrong its not depressing movie, its realistic, its a very very humorous movie, the cocky and funny Bozz (Collin\\'s Character) lights it all up, and on top of that there are about 5 female actresses in the movie; I\\'ll let you figure out what their in there for! With dialogue, war/action sequences, picture perfect scenes along with appropriate music; this movie has it all, like I said: from top to bottom. I don\\'t why Tigerland is heavily under-credited. The best thing about owning the movie is that on the cover it says in big bold writing \"The best film of the year,\" and it absolutely falls nothing short of that. Keep the rare gems coming Hollywood, 10/10.', 'This is one particular Stooge short that actually uses satire in conjunction with slapstick, a rarity. As mentioned, the title and concept for this short was \"borrowed\" from a feature film from the same year with Clark Gable called \"Men In White\". It\\'s basically about the trials and tribulations of interns and their sacred cause for \"duty and humanity\". I saw this recently and almost treated it like the Stooge version because it does take itself a little too seriously. In any case, \"Men In Black\" is so well written, directed and not to mention original, it didn\\'t borrow a thing from Chaplin or any of the others, that the Motion Picture Academy nominated it for an award as the best short comedy of 1934. Some stinky short called \"La Cucaracha\" outdid it though and stole the award. Some producer\\'s brother in law must have been on the Academy\\'s voting board. \"Men In Black\" pokes fun at the whole concept of the medical profession much in the same way that the Marx Bros. always did at this time. May not be a fair comparison but I can see the Marx Bros. in this short. In fact in their feature \"A Day At The Races\", there is a scene where there\\'s \"medical things\" going on and they cause anarchy as usual. My guess that this particular short was judged along those lines and hence why it was nominated in the first place. Try this in fact: watch this short first and then watch \"Duck Soup\" or \"Day at the Races\" with the Marxes and then see if there isn\\'t the same great quality of comedy.', \"I can name only a few movies that I have seen which were this bad. This movie has terrible everything: The dialog is corny and cliché', the acting is poor for the most part with a few exceptions, the cinematography is nothing to cheer about, and the plot is silly (A fat woman stalks a suburban family because her daughter didn't make the soccer team). This is so bad, it's funny to watch. If you can catch this on lifetime, I'd recommend it highly as a comedy. As for being a serious movie, I'm afraid i'll have to rate this a 2.<br /><br />Don't watch this film if you are a serious movie fan and looking for an interesting and challenging storyline, or good acting. There is none to be found.<br /><br />Edit: Hmmm... I think a group of people who work for lifetime must have written some phony reviews and voted all the negative ones down. Don't believe them. This is a really crappy movie.\", 'when i first read about \"berlin am meer\" i didn\\'t expect much. but i thought with the right people, the right locations, the right music and fashion you could at least make a trivial movie about the hip berlin everyone seems to be talking about. but eissler failed, it\\'s so ridiculously unauthentic. it\\'s a complete misrepresentation of what it is going on in berlin\\'s so called scene. of course it\\'s not all about hippness, but you should expect more from a movie that\\'s being sold as \"the definite berlin movie\".<br /><br />and apart from all the credibility stuff, it really is a bad movie. mediocre acting and a rather boring plot. interestingly some of the actors have proved in other movies that they are actually quite talented. so it really must be poor directing skills.<br /><br />don\\'t bother watching \"berlin am meer\" unless you are 17, come from some small town in western Germany and want to move to the big city after you finished school. then you might actually find it enjoyable and totally cool.', 'I got this thing off the sci-fi shelf because I remembered seeing the first of the series when I was a kid. I\\'d rented the second one and it was a decent \"B\" sci-fi. This one was out right obnoxious. The \"special\" effects on the cars looked like something my 4 year old cousin could have done. The two assistant female cyborgs were so terrible that I literally cringed every time they came on the screen. The plot left so much to be desired that it made me sick. I don\\'t know what anyone was thinking when they agreed to be a part of this movie but I\\'m sure that they\\'d have done better to have left it at 2 movies. The movies in this series are going from good to decent to terrible. I only hope that no terrorist groups have access to this movie as it makes an excellent torturing device.', 'waste of my life, .... the director should be embarrassed. why people feel they need to make worthless movies will never make sense to me. when she died at the end, it made me laugh. i had to change the channel many times throughout the film because i was getting embarrassed watching such poor acting. hopefully the guy who played Heath never gets work again. On top of that i hope the director never gets to make another film, and has his paycheck taken back for this crap. { .02 out of 10 }', 'A good x evil film with tastes of \"James Bond\", \"Romeo and Juliet\", and, maybe, even \"Star Wars\".<br /><br />The evil count Von Bruno receives an English gentleman as a guest for a very dangerous hunt. Elga, the beautiful simple and well intentioned lady that was forced to marry the count provides the love triangle. The count missing eye points to a terrible past. The Englishman is not what the count thinks and is a terrible treat to him. There is also the terrible hunchback, crocodiles and even the side appearance of some torture instruments.<br /><br />Boris Karlloff, here in a support role, makes an strong, but somewhat stiff, presence. The other actors (and direction) are the symbol of an era the strong representations of black and white movies. Since the beginning there is no doubt of who is the evil guy, who is the good one. Even traitors and stiffs can be identified somewhat easily.', 'There is a scene in this film at about the 42 minute mark that is among the worst I have seen in some time. As F. Scott Fitzgerald (Gregory Peck) and Sheilah Graham (Deborah Kerr) are lounging on the beach, suddenly things become tense and Sheilah begins to cry--at which point she tells her lover about her sordid past. This \"dramatic scene\" becomes so terribly overdone and histrionic I couldn\\'t help but turn to my wife and exclaim how stupid it all was...as dramatic music swelled on the television as it all came to a phony crescendo. NO ONE experiences moments like this--no one. Now how much of the rest of the film is true, I cannot say, but this particular moment was laughably bad and as fake as an $8 Rolex--and leads me to assume that some of the other reviewers were correct--the film is a lot of bunk. However, I am not an expert on the life of these two people and the internet didn\\'t seem to clear this up, either. <br /><br />Just who were F. Scott Fitzgerald and Sheilah Graham and what was their relationship really like? What I do know about Fitzgerald, however, does seem different from what I saw in the film. Was he the suave and decent man we initially see in the film? Well, considering he was married at the same time he was carrying on with Graham and drank like a fish, I\\'d assume he wasn\\'t. Was he as obnoxious and boorish as we later see in the film? Perhaps, but if he was this bad AND yet Ms. Graham stayed with him, then this makes her out to be a complete dummy--and not someone you\\'d like to see featured in a film. And, if he wasn\\'t, then the film does a poor disservice to his memory. Either way, it made for a painful and not particularly pleasant viewing experience.<br /><br />The sum total of this film appears to be a tale of two not particularly likable or healthy people. In a dark and salacious way, some might find this all very entertaining, but most are sure to see this as a train wreck with no surprises along the way! Unpleasant but with glossy production values (especially the music, which was lovely but way over the top) it begs the question \"why did they even choose to make this in the first place?\". The bottom line--it\\'s a pretty bad film all around and probably not worth your time--even if, like me, you are big Gregory Peck fan.', 'A powerful \"real-tv\" movie. Very subversive and therefore remaining almost un-broadcasted ! (almost...thanx 2 arte in France). After you\\'ve watched this manhunt all movies filmed with the same concept (a documentary team following the events as they arrived) seem so weak.<br /><br />DAVID', \"This type of plot really does have a lot of potential, but it was butchered here. Honestly, I sensed the cheese element in the beginning, but I thought it would get better after the grotesque birthing. Whoa, I was wrong! So mad scientist makes a monster, wants to brag to his old cronies before he kills them, but of course they escape. After that, it's really bad. I should've counted the times the rubber shark mask peeked out from behind some foliage, but I most likely would have lost count.<br /><br />Pan down to the blood-dripping-from-severed-leg to show us how the shark-man finds the folks. I hate being spoon-fed every aspect of a horror film.<br /><br />Oh, and after being nearly killed by a mutated shark-man and trudging around a jungle-esqe island, there's nothing more cheerful than a middle-aged man reciting Shakespeare...<br /><br />This is one where you'll find yourself rooting for the monster... if you can bear to watch this poor excuse for a flick.\", \"At the end of my review of Cache, I wrote that I was intrigued with Haneke as a film maker. This is what led me to get the DVD for La Pianiste, which I just finished watching about a half hour ago.<br /><br />It's all been expressed, here at IMDb and in many of the external reviews - the gruesomely twisted pathology that would 'create' an individual like Huppert's Erika, who is still trying, after years and years, to please her mother, at the expense of everyone and everything else in her life, beginning with her self. She's repressed everything that would free her from her self-imposed bondage, including, of course, her sexuality, which has literally imploded, to the point of madness, to where she can no longer even begin to comprehend what a genuine loving impulse would feel like.<br /><br />This is a graphic portrait of a severe emotional cripple, one who never found the strength to get out of her childhood situation and become a functioning adult. I think this subject relates to all of us - we're all striving for autonomy, but there are needs, so many conflicting needs, most of which are not even on the conscious level. It also deals brilliantly with the contrast between what one fantasizes about, sexually, and the reality of those fantasies, as well as the consequences of choosing to share one's sexual fantasies with another human being. Huppert's character gets what she asks for in the course of the film, and it is hardly the emancipating experience she had imagined it to be. <br /><br />Regarding the much-discussed scene in the bathroom: I really appreciated how this sequence had all the possible erotic charge (for the viewer, I mean) sucked out of it because of the prior scene, where she put the glass in the girl's pocket. By the time she's acting out her let's-see-if-this-guy-is-worthy scenario in the bathroom, we've already found out that she's dangerously disturbed and so it's not a turn on, her little domination session with our poor unsuspecting dupe.<br /><br />I think another incredible achievement of this movie is how, about halfway through it, I completely forgot that it was not in English and that I was reading sub-titles. That has never happened before, in any foreign movie, and I've seen quite a few. <br /><br />In this film, like Cache, the ending is not all wrapped up in a nice little tidy bow, but unlike Cache, we do at least get some sense of finality, despite the fact that we do not even know for sure whether Huppert's character is alive or dead. After experiencing La Pianiste, when it comes to Michael Haneke, I am, needless to say, more than a trifle intrigued.\", 'This series had potential, but I suppose the budget wouldn\\'t allow it to see that potential. An interesting setup, not dissimilar to \"lost\" it falls flat after the 1st episode. The whole series, 6 episodes, could have made a compelling 90 minute film, but the makers chose to drag it on and on. Many of the scenes were unbearably slow and long without moving the action forward. The music was very annoying and did not work overall. There were few characters we cared about as their characters did not grow during the time frame--- well, one grew a bit. The ending was as terrible as the rest of series. The only kudos here is to the art dept and set dressers, they created an interesting look, too bad the writer and director lacked the foresight to do something interesting with that element', 'Independent film that would make Hollywood proud. The movie substitutes good looks for good acting, a cryptic plot for a good story line, and self-absorption for character development. May be I missed something, go see it for yourself.', \"Most of you out there really disliked this movie... you were right. A small minority of you really loved the movie... can't say you' re wrong. For me, this movie was too stupid. I have seen many dumb, silly comedies but this one surpasses every one of them. As I was watching I couldn't stop rubbing my eyes, not believing what I was seeing and trying to decide if I should laugh or cry, as *REALLY STUPID* stuff were going on on the screen, and people were leaving the theater.<br /><br />According to the leading characters, time travel is accomplished, just enter any museum and you will actually travel to the past. Plus, if you are seeking an after death experience, just go to the nearest planetarium, there you shall meet Lord - sorry, Loydd and be given important commands... All te above doesn' t really make sense, right? Well, go ahead, watch the movie (I almost never regret the movies I watch), you probably won't like it, but you will be intrigued by the writer's ability in producing the ultimately STUPID script...<br /><br />I' m giving it a 3 out of 10, not good, far from being the worse...\", \"Despite all the hoopla about THE TROUBLE WITH TRIBBLES episode, THE BALANCE OF TERROR might just be the best episode of the series. And, while I have always loved A PIECE OF THE ACTION because it is so much fun, I really do have to cast my vote as this Romulan episode as being the very best.<br /><br />The movie, interestingly enough, is really like a WWII submarine movie in that it bounces back and forth between the cloaked Romulan ship and the Enterprise as it seeks to destroy the Romulans before they sneak back across the Neutral Zone after a raid on Federation outposts. In so many ways, the show is much like the film THE ENEMY BELOW--where the American Captain (Robert Mitchum) and the German Captain (Curt Jurgens) are shown in counter-point as they both try to outwit the other--and in the process develop a grudging respect for their foe.<br /><br />Interestingly enough, only a short bit of the beginning of the episode takes place on a planet--and this is amazing because an episode on board ship could easily have been static and dull. But, because the writing was so fantastic and the main characters written and acted so well (Shatner and Mark Leonard as the Romulan leader). Oddly, for the die-hard Trekkers out there, they'll recognize Leonard as the same actor who later played Spock's father.<br /><br />The bottom line is this is simply a great and extremely engaging episode that will keep you on the edge of your seat.\", \"I will divide my review into following 5 categories each accounting a maximum of 100%(if perfect) ________________________________________________________________ <br /><br />Visual Pleasure:[100%] This is extremely pleasing movie visually. I had a great time watching it. Golfing scenes are very well shot and the dramatic effects on the green were quite amazing. I also loved seeing the old wooden golf clubs and the bag.<br /><br />Director's Work:[70%] Bill Paxton is more associated to acting but this film shows he's got talent. Did a decent job.<br /><br />Acting:[90%] Shia LeBeouf was very good in his role of Francis Ouimet(this guy can ACT well). The rest of the cast was also good.<br /><br />Entertainment Value:[100%] I enjoyed every minute of it. It was overwhelmingly entertaining.<br /><br />Script:[91%] Based on a true story and therefore it makes the film that much more special. It was intriguing right from the start and loved every scene till the very end.<br /><br />__________________________________________________________________ <br /><br />My Advice: Definitely a MUST watch for all the Sports lovers especially Golf(You all will love it). Anyone who is looking for a nice entertaining movie and doesn't hate Sports can watch it. <br /><br />_____ <br /><br />10/10\", \"After seeing this film I felt sick to my stomach and if I had seen one more minute I would have had to rush to the bathroom and vomit til dawn. A sick film that was NOT funny and was NOT worth the money, any money at all. If anybody ever wants to see this movie don't! Your kids will never forgive you and will claim sickness for a week. So if you value your child's education and want to stimulate your child's mind please don't see this movie. I beg of you, DON'T!\", 'This was one of my favorites as a child. My family had the 8-track tape soundtrack!! It took us years (until I was in my 20s) for us to get a video of the movie (my dad taped it from HBO or something). Every summer when we go to the beach (my mom, brother, sister and I) we lay on the beach and sing all the songs from this movie!!! LOVED IT!!!', \"I have to confess that I know some of those involved, I was in the forerunner to The Planet, Evil Unleased, however this was more than 10 years ago and I had since lost contact with them. I happened to be watching BBC Scotland News and a piece regarding Scottish Cinema, this mentioned and showed clips from The Planet and comments from it's director Mark Stirton, this prompted me to order a copy of the film on DVD.<br /><br />Now to the film, the level of acting, writing, directing and sfx is up there with some of the best around, OK it's not Star Wars but I've seen many a Hollywood product that is far inferior. It is very strange watching a film spoken in my local North East Scotland accent but that soon passed.<br /><br />^Mild Spoilers^<br /><br />The Planet draws on several sci-fi classics; Star Wars, Alien, Pitch Black, Forbidden Planet and Predator, a handful of the merchant crew of a deep space transport ship survive their craft being attacked and destroyed by unknown ships, they escape onto a deserted desert planet, one by one they are killed by invisible attackers, the ships only passenger, a mysterious prisoner also makes it to the planet, a battle ensues as the crew fight to survive.<br /><br />The Planet is a brilliant piece of sci-fi film making that certainly hides it's limited budget, well done to Mark, Mike and all those involved, I look forward to your next work.\", 'I purchased a DVD of this film for a dollar at the big dept store. That\\'s probably the best and kindest comment I have to offer on it. At least it didn\\'t cheat me out of the cost of lunch.<br /><br />The problem with \"Chiller\" is Craven\\'s problem as a director. The man has his apologists who claim his traveling papers prove he\\'s a really smart guy and all-around sharp conceptualist. But it\\'s no secret that, as a director, he has never possessed one iota of the visual and story-telling sense of a Hitchcock. As vigorously attested by \"Chiller\", he\\'s much closer to that legendary flat-foot Hershel Gordon Lewis. What Craven lacks as a director is the main ingredient that would lift him from director for hire to a higher plane of film- making.<br /><br />Let\\'s be specific. The transitional moments of this film are sleek. The establishing shots give it the feel of a quality production. The film looks professionally put together, in the way a film shot by a TV commercial director would. (A thought: The films only visual distinction, these transitions that at least look professionally handled may very well be the work of some second unit directors.) It\\'s the parts between the bridges and smooth transitions -- the drama -- that fall flat. <br /><br />The core of the proceedings are invariably perfunctorily handled. The critical shots (after, say, the departing car drives into the well-positioned camera, then we cut to the night exterior of a hospital, then to the waiting area and hallway, then to the phone booth in the corner that will figure in the next bit of action) are quickly dispensed so we can hurry up and get to the next part. Craven never comes anywhere close to exploding the dramatic or visual possibilities of any moment. The net result of all this misplaced attention to the least important parts, and the fumbling rush to keep things moving, is a film that feels like the work of the fledgling art student who sharpens all his pencils, fussily adjusts his easel and lighting set-up, grinds all his pigments, stretches and primes his canvas ...and then has nothing to say. Craven, like the art student, never gets to the meat of the exercise.<br /><br />For Craven apologists who will point out that this film was made for TV, I will point to Spielberg\\'s \"Duel\" and say no more.', \"Excellent. Gritty and true portrayal of pioneer ranch life on the Western plains with an emphasis on the woman's role and place. A moving film, lovingly made, and based on real people and their actual experiences. Low budget, independent film; never made any money. Definitely not the romanticized, unrealistic Hollywood version of pioneer life.\", 'I was taken to this film by a friend and was sceptical about a Swedish film with subtitles. However, I thoroughly enjoyed every minute of this beautiful film. The unnecessary cruelty that man is capable of was portrayed confidently without overwhelming images - although animal lovers may have to shield their eyes for a brief couple of seconds somewhere during the first 10 minutes. A traditional story of humility versus brutality and hope versus tragedy was illustrated from a satisfyingly fresh angle using a spectrum of characters with very natural flaws and features. I particularly liked how the film managed to address multiple aspects of hypocritical human behaviour that concern bias, discrimination and sanctimonious pretence. An absolute gem of a film that I will promote to all who will listen.', '\"Homeward Bound: The Incredible Journey\" is one of those wonderful old movies about house pets. Deserves a place among the great movies of its genre and even the cinema world in general, together with other animal movies like \"Old Yeller\", \"Napoleon\", \"Fluke\" and \"Air Bud\". This means it is more than just a movie about pets.<br /><br />Can this possibly be just a \"remake\"? It is too good to be a \"remake\"! I know this one by heart, since my early teen years (when I was 12).<br /><br />It\\'s a family movie to treasure. It\\'s emotional, thrilling, adventurous, exciting, entertaining, humorous, charming, sweet, nostalgic, beautiful, heartwarming and sometimes dramatic. It\\'s one of those movies to put a smile on the faces of those who appreciate this kind of films.<br /><br />This movie does not lack qualities. It has a well thought story, enjoyable characters, excellent and relaxing instrumental soundtrack, dazzling sceneries/landscapes of the magnificent Sierra mountains (in Oregon). Speaking of the vistas, it\\'s not all mountains: forests, trees, rivers, waterfalls, sunsets... in conclusion, all of pure nature\\'s wonders - truly a full panorama. <br /><br />The main human characters are nice, well developed and well portrayed by respective actors. Robert Hays is awesome as the kind-hearted dad, Bob Seaver. Kim Greist is good as Laura Burnford. Veronica Lauren is equally good as Hope. Kevin Chevalia is conventional as the youngest and cute brother Jamie (his appearance actually reminds me very much of Kevin Corcoran in \"Old Yeller\"). Benj Thall is great as Peter Burnford.<br /><br />When it comes to our quadruped pals, Shadow is my favorite. Shadow is the loyal, wise, mature, beautiful, caring and loving old Golden Retriever (brilliantly voiced by Don Ameche). Chance, the American Bulldog, is the opposite of Shadow. He is carefree, silly, impatient, anxious, clumsy, hilarious and loves to play (voiced by the talented Michael J. Fox). Chance just can\\'t stand still. Sassy is the epitome of cats\\'s image: elegant, independent, very confident and self-proud, with a typical cat attitude but with a certain feline charm. Sassy is a Seal Point Himalayan cat, one of the most beautiful cat breeds. Sassy is voiced by Sally Field, who also does a good job.<br /><br />Our four-legged friends are, themselves, great \"actors\" by nature: Ben as Shadow, Rattler as Chance and Tiki as Sassy.<br /><br />It\\'s an underrated movie, but a classic by its own right. Its sequel is clearly inferior.<br /><br />This should definitely be on Top 250.', 'To review this movie, I without any doubt would have to quote that memorable scene in Tarantino\\'s \"Pulp Fiction\" (1994) when Jules and Vincent are talking about Mia Wallace and what she does for a living. Jules tells Vincent that the \"Only thing she did worthwhile was pilot\". Vincent asks \"What the hell is a pilot?\" and Jules goes into a very well description of what a TV pilot is: \"Well, the way they make shows is, they make one show. That show\\'s called a \\'pilot\\'. Then they show that show to the people who make shows, and on the strength of that one show they decide if they\\'re going to make more shows. Some pilots get picked and become television programs. Some don\\'t, become nothing. She starred in one of the ones that became nothing.\" Now to stretch on what Jules was talking about, there are BILLIONS of television shows/pilots that were never aired because they simply were not...well, good. Probably the most notorious pilot that comes to mind is \"W*A*L*T*E*R\", a spin-off to \"M*A*S*H\" with Gary \"Radar\" Burghoff as the lead. Hmmm, would somebody really want to be watching Radar for a half-hour trying to solve crimes? Hence, the show was never picked up. What many people don\\'t know (or what they thought they knew) is that pilots are hardly ever shown on the air, for they are made strictly for the Television networks for them to decide. Some have made they\\'re way past and got onto the air (The pilot for the animated series \"American Dad\" comes to mind, as the show\\'s serial itself didn\\'t begin until nearly four months later. However, there are times were we should all be glad pilots never make it to air, and this here is why.<br /><br />\"Black Bart\", a supposed tie-in with the Mel Brooks comedy classic, \"Blazing Saddles\", is a stale and bland \"sitcom\" with little heart and no soul. \"Saddles\" was a controversial comedy, nevertheless, with it\\'s racist humor and vulgar comedy, which comes to mind \"what idiot decided this would make a great television show FOR PRIME TIME TV?!?\" I say \"supposed\", because none of the memorable characters from the movie, aside from Bart, on in this mess of a TV show. Mel Brooks wasn\\'t even involved with the production of the serial and this was the first mistake in a long line (In a related story, I recently found out about an unaired TV pilot for a series based on the movie \"Clerks.\" that Kevin Smith was no involved in....you see what happens?!?).<br /><br />Set somewhere around the same time as the movie (or at all), the story circles around the only Black sheriff in the wild west, named appropriately \\'Black\\' Bart, who is this time played by future Academy Award winner Louis Gossett Jr., obviously before his stint in \"real\" acting, whereas in this he is playing a \"G-rated\" Richard Pryor. Most of the other characters are carbon (if not, really bad) copies of the characters in the movie: Jim, The Waco Kid is replaced by a similar looking character named Reb Jordan, a former Confederate soldier who is quick with the gun. Lilian Von Schtupp is now Belle Buzzer, a more of a ripoff of the character being that she\\'s a show dancer and a German with a Marlene Dietrich-type accent and personality. While that\\'s pretty much the end in similarities, The lead \"bad guy\" in the story is Fern Malaga, played by Noble Willingham, who I assumed would\\'ve been Hedley Lamar if Warner Bros. secured the rights to the name (See trivia for \"Blazing Saddles\") and his son Curley...I dunno, Taggart I suppose? The story is a poor excuse for a sitcom, much less a pilot. Bart deals with the mayor\\'s drunk son and he\\'s out-of-control behavior which has caused the town to spin. Really, it\\'s a story that tries to introduce all the characters in the \"series\" and doesn\\'t focus on the variety and context that would make this an \"alright\" show. I can\\'t really call it a sitcom (and even if I wanted to) and that\\'s primarily the fact it was shot on the backlot at Warner Bros. Studios and later added a laugh track, so the show is set up almost exactly like \"M*A*S*H\" (complete with a bland and dull \"laughing\" that is identical to the series). The acting is so-so, but there\\'s one part that always make me laugh, and that\\'s when the actor playing Reb Jordan almost seems to forget his lines and tries really hard to remember them while trying to sputter out a piece of dialogue. HA! The script is rather dull and is attempts to make racism more humorous than it was in the movie (Surprisingly, they use the word \"N***er\" numerous amount of times through a 22-minute episode, rather touchy for it\\'s time period and even for today) and it gets repetitive.<br /><br />If you ever get your hands on this unseen piece of sssss...surly interesting novelty item, watch it just for the sake of the feeling for watching pilots (It\\'s on the collector\\'s edition of \"Blazing Saddles\", God knows why). There, yourself get a first hand chance for the reason why many movie tie-in pilots never air.', 'Oy vey... Jurrasic Park got Corman-ized. As usual the plot is wafer thin, from 1 foot tall dinosaurs that weigh 150 pounds and leave tracks bigger than they are, to inexplicable science which uses lasers to keep the dinosaurs in check and poultry trucks which have chickens loose in cages large enough for big dogs (I\\'ve seen chicken trucks they are all in cages the size of shoe boxes). And all that is in the first 15 minutes of this disaster of a film. All the male actors are imbeciles (thinking a grizzly might be loose in the desert, constantly dropping items to give the raptor an easy kill) and the female actors all look like they just came from a modeling shoot for Fredrick\\'s of Hollywood. The raptor itself is the worst thing since the Hobgoblins (from the movie of the same name), it looks like they had a hand puppet version and a plastic model for the \"motion\" shots. If you want a good movie to sit around and heckle MST3K style, this is gold. If you want competent film making and good acting... don\\'t watch a Roger Corman film. Acting gets a 4 out 10, some of the players upon this stage did try. Story gets a 2 out of 10, it reads like a drunken storytelling session gone bad. Special effects gets a 2 out of 10, I\\'ve seen worse, but not many.', 'This film revolves around an Arabian leader (Amir) who dies and wants to live on. So a Dr. Lloyd Trenton is being paid to transplant Amirs brain into a \"willing\" participant. But in the Doctors basement his dwarf assistant Dorro (Angelo Rossitto) drains young girls blood for the doctors purposes. So meanwhile Doctor Llyod pays a man to kill the people who assisted Amir into the country (Which is Reed Hadley, Grant Williams, and various unknown bodyguards.). Grant is the only survivor when his car crashes off the road. While this has happened the doctors other assistant Gor is sent out to get a body for amir and hurts him so badly Dr.Llyod cant operate. Meanwhile, Grant finds Amirs \"girlfriend\" Regina Carrol and tells her his story. Grant sees the man who drove him off the road and Dorro kills him. Then since Gor failed to get a body D.r Llyod puts Amirs brain into Gors disfigured body. Then Grant and Regina go to the Doctors lab an<br /><br />------------------------SPOILERS------------------------- find out his secret. Soon Amir (Gor) are prancing around killing people and in the muddle of what I think is plot Dr.Llyod has a brain-ray gun which hurts Amir on command. It turns out Dr.Lloyd wants a country in which all scientists can work without law. So then Regina dies. and at the end Amirs new body (I think) say that it shall be a new country blah blah.<br /><br />I still don\\'t get the ending but overall this was a very enjoyable piece of smelly cheese.This film features Grant Williams in his second to last film roll. I recommend it for any fan of Al Adamson or if you like Brains.', \"In his first go as a Hollywood director, Henry Brommell whips an enthralling yarn that is all of penetrating relatable marital issues with melancholic authenticity, and lacing such with an equally absorbing subplot of a father-son hit-man business. The film is directed astutely and consists of a wonderfully put together cast as well as a swift, family-conscious screenplay (also by Brommell) that brings life to an otherwise fatigued genre. As a bonus, 'Panic' delivers subtle, acerbic humor\\x97an unexpected, undeniably charming, and very welcome surprise\\x97through its bumbling, unsure-of-himself, low-key star, whose ever-cool state is enticing, especially given his line of work.<br /><br />The forever-great William H. Macy again captures our hearts as Alex, a unhappy, torn, middle-aged husband and father who finds solace in the most dubious of persons: a young, attractive, equally-messed-up 23-year-old named Sarah (Neve Campbell), whom he meets in the waiting-room at a psychologist's office, where he awaits the therapy of Dr. Josh Parks (John Ritter) to discuss his growing eagerness to quit the family business that his father (Donald Sutherland) built. Alex, whose lust to lead a new life is obstructed by the fear of disappointing his dictating father, strikes an unwise fancy for Sarah, which ultimately leads him to understand the essence and irrefutable responsibility of being a husband to his wife and, more importantly to him, a good father to his six-year-old son, Sammy (played enthusiastically by the endearing David Dorfman).<br /><br />Henry Brommell's brilliant 'Panic' is something of a rarity in Hollywood seldom seen (with the exception of 2002's 'Road to Perdition') since its conception in 2000\\x97it weaves two conflicting genres (organized-crime, family drama) into a fascinating, warm hunk of movie-viewing that is evenly strong in either direction\\x97and it's one that will maintain its exceptional, infrequent caliber and gleaming sincerity for ages to come.\", 'After perusing the large amount of comments on this movie it is clear that there are two kinds of science fiction movie-goers. There are the ones who are well read, extremely literate, and intelligent. They know the history of the genre and more importantly they know to what heights it can reach in the hands of a gifted author. For many years science fiction languished in the basement of literature. Considered my most critic to be little more than stories of ray guns and aliens meant for pre-pubescent teenagers. Today\\'s well read fan knows well this history, and knows the great authors Asimov, Heinlein, Bradbury, and Ellison, who helped bring science fiction out of that basement. In doing so they created thought provoking, intelligent stories that stretched the boundaries and redefined the human condition. This well informed fans are critical of anything Hollywood throws at them. They are not critical for it\\'s own sake, but look upon each offering with a skeptical eye. (As they should as Hollywood\\'s record has been less than stellar.) To these fans the story must take supreme importance. They cannot be fooled by flashy computer graphics, and non stop action sequences. When the emperor has no clothes they scream it the loudest.<br /><br />The second type of science fiction movie goer has little knowledge about the written aspect of the genre. (Look at many of the above comments that state \"Well I haven\\'t read the book or anything by this author...) Their total exposure to science fiction is from movies or the Scifi channel. They are extremely uncritical, willing to overlook huge plot holes, weak premises, and thin story lines if they are given a healthy dose of wiz bang action and awesome special effects. They are, in effect, willing to turn off their critical thinking skills (or maybe they never had them!) for the duration of the movie. Case in point, I Robot. While supposedly based on Asimov\\'s short stories and named after one of his novels, it contains little of what Asimov wrote and even less of what he tried to tell us about humanity and our robotic creations. (Those of you that will run out and buy I, Robot will be very much surprised-this movie isn\\'t even based on that story at all!) <br /><br />The film has enormous plot holes, that at some points are stretched to the limits of credulity. I won\\'t point them out. I won\\'t spoon feed you. You need to practice you thinking skills and discover them for yourself. The characters, which are named after many of Asimov\\'s characters, do not possess the critical intelligence that was a hallmark of his stories. The plot itself with all it\\'s action sequences goes against everything that the author stood for. His belief that humanity possesses the capacity to solve problems using their minds, not their fists, is vital to understanding his vision of the future. In short, other than the name, their is very little of Isaac in anything about this movie. There will always be those uncritical (i.e. unthinking) who will state: \"The movie doesn\\'t have to be like the book. Due to the medium, movies sometimes require that changes be made.\" But what about a case where the movie never even tried to stay close to the book (or books) from the start? What if all they took from the written work was the title? This begs the question: Why tarnish a great body of work by slapping it\\'s title on your vacuous piece of crap? Save money and don\\'t buy the rights to the works. Title it something else. Don\\'t use the character\\'s names. Believe me no one will accuse you of plagiarism. In fact it won\\'t matter what you title it to the unread moviegoer who accepts everything you throw at him. But it will upset those who read, who think, who are unwilling to simply let you give them a pretty light show. <br /><br />I, Robot, like much of Hollywood\\'s take on the genre, pushes Science fiction back down into that basement it lived in years ago. Hollywood could not do this alone. It takes an uncritical mindless audience that will accept puerile dredge like this.', 'One of the few comedic Twilight Zones that\\'s actually really good. We have Floyd The Barber from Andy Griffith Show,The stock in trade Old Geezer dude from Many old westerns,and lovable old Frisby. It also has that cool spacecraft interior that I believe was used in the Sci Fi classic Forbidden Planet.Or else The Day The Earth Stood Sill.Plus the new guys in town are driving an exotic Renault(I think) sports car back in the days when European automobiles were known as \"Foreign Jobs\" in the U.S.. The whole idea of harmonica as weapon is a hoot.And the fact that Frisby\\'s buddies love him despite being the fact he\\'s a total BS artist is a heartwarming moment.', \"I was expecting a very funny movie. Instead, I got a movie with a few funny jokes, and many that just didn't work. I didn't like the idea of bringing in Sherlock Holmes' and Moriarty's descendants. It was confusing. It would have been more funny if they just had someone new, instead of Moriarty resurrected. Some of the things were funny. Burt Kwouk was very funny, as always. McCloud on the horse was funny. The McGarrett from Hawaii 5-0 was not even McGarrett-like. Connie Booth obviously is very good with accents. She is from Indiana, but played English and a New Yorker pretty well. Unfortunately, she was not presented much into the script. I was expecting a more funny film. Instead, I got a rather confusing movie with a poor script. Rather ironic, since both Booth and Cleese were together on this one. Maybe they were about to break up in 77.\", \"This movie is incredibly realistic and I feel does a great justice to the crime that many people do not understand because of a lack of experience. The many people who think they could fathom what goes through a victim's mind are arrogant. As a victim, I feel that Dawson did a fantastic job in her role of Maya. I agree that this is an incredibly brave film. This looks at rape from a different, more realistic standpoint than any other movie I've ever seen on the subject. The end did drag on a bit long, but I know that many victims imagine this kind of justice, since the chances of an attacker being sent to jail for their crime is around 1%. It's good to see a movie that sticks closer to reality than most would dare to.\", 'What I Like About You\\' is definitely a show that I couldn\\'t wait to see each day. Amanda Bynes is such an excellent actress and I grew up watching her show: \\'The Amanda Show.\\' She\\'s a very funny person and seems to be down to earth. \"Holly\" is such a like-able person and has an \"out-there\" personality. I enjoyed how she always seemed to turn things around and upside down, so she messed herself up at times. But that\\'s what made the show so great.<br /><br />I especially loved the show when the character \\'Vince\\' came along. Nick Zano is very HOT and funny, as well as \\'Gary\\', Wesley Jonathan. The whole cast was great, each character had their own personality and charm. Jennie Garth, Allison Munn, and Leslie Grossman were all very interesting. I especially loved \\'Lauren\\'; she\\'s the best! She helped make the show extra funny and you never know what she\\'s gonna do or say next! Overall the show is really nice but the reason I didn\\'t give it a 10 was because there\\'s no more new episodes and because the episodes could\\'ve been longer and more deep.', \"I am not an artistically inclined individual. I am a science minded woman and I felt that this movie was maybe one of those campy artsy type films on a budget. I watched part of it with my fiancé and my future step daughter. We tried very hard to find something in this film to keep our interest. My fiancé and his daughter voted it off and we moved on to Ocean's 13,but that is another story. Not to be deterred I awoke the next morning and gave the movie another shot. I began again watching this movie in earnest. I just don't get it,I thought I would get it.I thought the funniest part was the flushing of the ashes and the urn finding a spot by the fireplace being used as a vase for what appeared to be dead flowers. Interesting and still it had dead stuff inside. It was an odd and bizarre movie. Maybe this is what they were after,however I won't be tricked a second time!\", '-SPOILES- Lame south of the border adventure movie that has something to do with the blackmail of a big cooperate executive Rosenlski the president of Unasco Inc. by on the lamb beachcomber David Ziegler who\\'s living the life of Reilly, or Ziegler, in his beach house in Cancun Mexico.Having this CD, that he gave to his brother James, that has three years of phone conversations between Rosenlski and the President of the United States involved in criminal deals. This CD has given David an edge over the international mobsters who are after him. <br /><br />The fact that James get\\'s a little greedy by trying to shake down Rosenlski for 2 million in diamonds not only cost him his life but put David in danger of losing his as well. Ropsenlski want\\'s to negotiate with David for the CD by getting his ex-wife Liz to talk to him about giving it up, Rosnelski made a deal to pay off her debts if she comes through. David is later killed by Rosenliski\\'s Mexican hit-man Tony, with the help of a great white shark, who just doesn\\'t go for all this peaceful dealings on his boss\\' part. <br /><br />Tony had taken the CD that Liz left for his boss at a local hotel safe and now want\\'s to murder James, like he did David, and at the same time keep the CD to have something over Rosenlski.<br /><br />David who had secretly hidden the diamonds that James had on him at the time of his murder is now the target of Tony and his men to shut him up for good. David also wants to take the diamonds and at the same time give his boss Rosenlski the impression that the CD that David had is lost but use it later, without Rosenlski knowing who\\'s behind it,to blackmail him. <br /><br />The movie \"Night of the Sharks\" has a number of shark attacks in it with this huge one-eyed white shark who ends up taking out about a half dozen of the cast members including Tony. David who\\'s a firm believer in gun-control uses knives high explosives and Molotov cocktails, as well as his fists, to take out the entire Tony crew. Even the killer shark is finished off by Tony but with a hunting knife, not a gun. When it came to using firearms to save his friend and sidekick Paco a girlfriend Juanita and his priest Father Mattia lives from Tony and his gang guns were a no-no with David; he was more of a knife and spear man then anything else. <br /><br />The ending of the movie was about as predictable as you can make it with David thought to be killed by the one-eyed shark later pops up out of the crowd,after Rosenlski was convinced that he\\'s dead and leaves the village. David continues his life as a free living and loving beachcomber with no one looking to kill him and about two million dollars richer. to David\\'s credit he had his friend Paco give Rosenski back his CD but under the conditions that if anything happened to him his cousin, who Rosenlski doesn\\'t know who and where he is, will shoot his big mouth off and let the whole world know about his dirty and criminal dealings.', 'The turning point in \"The Matador\" comes about half through the movie when Danny, an unsophisticated man from Denver, is sitting in the balcony of his Mexico City hotel, enjoying a quiet moment. Someone knocks on his door, and knowing it\\'s Julian, the paid assassin, he refuses to answer. But did he really? <br /><br />Richard Shephard, the director of \"The Matador\", presents us with a character, Julian Noble, who shows no redeemable qualities. In fact, we have already seen him in action, doing what he does best. When Julian meets Danny at the bar of the Camino Real in Mexico City, he spills the beans and tells his new acquaintance what he really does for a living.<br /><br />Danny, who has come to sell his program to a Mexican company, but it seems he is competing against a local outfit that appears to be in the front for getting the contract. Danny is a naive person who falls prey of the charisma and charm doled out by the smarter Julian. It\\'s not until some time later, on a cold winter night that the killer appears at Danny\\'s door asking his friend to repay a favor and accompany him on a trip to Tucson. It\\'s at this point that the secret that binds them together is revealed in an unexpected way.<br /><br />Pierce Brosnan, acting against type, makes a great contribution with his irreverent Julian Noble. Just to watch him walking through the hotel lobby in his Speedo and boots gives the right impression about his character. Greg Kinnear, on the other hand, plays the straight part of this odd couple. Hope Davis appears only in a couple of scenes leaving us to lament why didn\\'t she stay longer. Philip Baker Hall puts an appearance as the liaison between Julian and his assignments.<br /><br />Richard Shephard directs with style working with his own material. The musical score is by Rolfe Kent and the crisp cinematography of David Tattersall enhances everything.', \"Those who only remember the late Sir Peter Ustinov as Hercule Poirot or a professional raconteur would do well to seek out this charming piece of late '60s satire. Ustinov stars as a convicted embezzler (we first see him during his last day in gaol where he is preparing the prison governor's tax return) who, sensing that the future is in computers, poses (by means of a deft piece of identity theft) as a computer expert and sets out to infiltrate an American multinational.<br /><br />Ustinov (who co-wrote the script) is on top form, as is the delightful Maggie Smith, here unusually cast as an accident-prone cockney-sparrow dolly bird. Bob Newhart also puts in an amusing performance as a suspicious executive who has designs on Maggie Smith. In addition, Karl Malden is satisfyingly sleazy as Ustinov and Newhart's womanising boss.<br /><br />What do I particularly like about this film? Not only is it a well-thought-out 'caper movie' but it's also a touching little love story; Ustinov and Smith are very convincing as the two misfits stumbling into love (the whole scene involving the deck of cards is particularly effective.)<br /><br />So, what is there not to like? Well, the script is no more computer-literate than most films (that is, hardly at all) even though it captures the feel of late '60s 'big iron' business computing quite well. Also there are a couple of small plot glitches that you're not likely to notice until the second or third viewing, but I consider these to be minor niggles.<br /><br />As I said, this is a film which is well worth seeking out, and after you've seen it once you'll want to see it again at regular intervals.<br /><br />\", 'Absolutely wonderful drama and Ros is top notch...I highly recommend this movie. Her performance, in my opinion, was Academy Award material! The only real sad fact here is that Universal hasn\\'t seen to it that this movie was ever available on any video format, whether it be tape or DVD. They are ignoring a VERY good movie. But Universal has little regard for its library on DVD, which is sad. If you get the chance to see this somewhere (not sure why it is rarely even run on cable), see it! I won\\'t go into the story because I think most people would rather have an opinion on the film, and too many \"reviewers\" spend hours writing about the story, which is available anywhere.<br /><br />a 10!', 'The influence of Hal Hartley in Adrienne Shelly\\'s \"I\\'ll Take You There\" is not overt, but clearly has ties to his work (Shelly has acted in two of Hartley\\'s films). Not only does her film exhibit a very tight narrative, but the hyper-stylized and extreme characters strangely render human emotion in a very real light. Though this film is not ironic on the whole (thank God), the small and subtle ironies that pepper the piece allude to the bitter truths in love and loss. With beautiful cinematography and a soundtrack straight from the seventies, \"I\\'ll See You There\" is a great indie-film that doesn\\'t stoop to postmodern irony when dealing with the woes of love and the reality of human emotion.<br /><br />The film begins with Bill\\'s life falling to pieces. Not only has he sold his best friend Ray a beautiful country home, but his wife Rose has left him in order to join Ray in the retreat. All washed up, Bill wallows in his own gloom and doom until his sister Lucy (played by the director Adrienne Shelly) brings him all kinds of surprises: a self-help book and a \"date\" for her traumatized brother.<br /><br />The unwilling Bill tries to refuse, but the sudden appearance of Bernice at his door leaves him no choice. No doubt Bernice\\'s initially superficial demeanor and ridiculous hairstyle detract from his ability to \"rebound\" with her. However, her pseudo-hippie qualities annoy him so much that he lashes at her on their first date. And Bernice is so traumatized by his derogatory remarks that she attaches herself to him, forcing herself upon him. To what end, we are not aware... except for maybe the fact that she is psycho. (And who better to play the psycho than Ally Sheedy?)<br /><br />Aware that Bill desperately wants to see Rose, Bernice offers her car, but on the condition that he take her somewhere first. On the way, she proceeds to hold Bill prisoner with his own gun (a Pinkerton Detective, no less). An imbroglio of angst, resentment, redemption, passion and violence ensue as Bill and Bernice find themselves on their way to the country home of Ray and Rose... of course, with a few stops along the way.', 'When in 1982, \"The Thing\" came out to theaters everywhere, it had a cold reception and very poor box-office results, becoming almost a failure in John Carpenter\\'s career as a horror director; however, time has proved that \"The Thing\" was definitely not a failed project and that the disappointing commercial results were not the film\\'s fault. Nowadays, John Carpenter\\'s \"The Thing\" has gained the appreciation it rightfully deserves and is considered by many horror fans as a horror classic, and not without a reason, as this new version of John W. Campbell, Jr.\\'s story \"Who Goes There?\" (previously adapted as \"The Thing From Another World\") is closer to the original tale and keeps a pessimistic feeling of dread and high doses of suspense in a masterfully crafted study about paranoia.<br /><br />The plot of \"The Thing\", begins in the winter of 1982 in a U.S. research station located in the remote territories of Antarctica, when the members of the crew notice a Norwegian helicopter coming their way. The two apparently insane pilots of the helicopter are trying to kill a Husky dog who makes its way into the American base. After the Norwegians are killed accidentally, the Americans try to figure out what made them to be insane. Soon they\\'ll discover that the Husky dog the Norwegians were hunting was not a normal dog, but a creature able to mimic every living creature, and not only that, it has a tremendous hunger.<br /><br />Director John Carpenter earned a place in history when in 1978 he directed the seminal slasher \"Halloween\", where suspense and atmosphere were above gore and shock. \"The Thing\" could be seen as an evolution of that style, as even when Carpenter makes great use of Rob Bottin\\'s special effects (which were labeled by critics as \"repulsive\" on its day), the film still focuses more on atmosphere and suspense rather than in the violent (and very well-done) displays of gore. The feeling of loneliness, as well as the \"bad karma\" between the members of the crew increase the feeling of paranoia as anyone could be the Thing, even our main character, R. J. MacReady (Kurt Russell), ending in a situation where nobody can be trusted.<br /><br />This plot element was more faithful to the concept of the source novel, and was blatantly ignored by the previous version (not completely a bad thing, just a big difference), making this version feel less like a remake and more as a new conception of the source novel. Bill Lancaster\\'s script handles the characters with brilliant domain, giving us enough to distinguish them, but not too much to completely trust them, making them an essential factor in the film\\'s haunting feeling of dread that keeps running through the movie. The mystery and the suspense are at the max, as never one can tell who is the Thing and who is normal, enhancing the paranoia and unpredictability of the plot with excellent results.<br /><br />The cast is very effective, and their performances as a whole so effective that one can almost feel the bad feelings between their characters as real. Carpenter\\'s regular collaborator Kurt Russell as MacReady carries the film, and through his eyes we witness the madness and the horror the research station becomes as the situations goes worse. Definitely one of his best performances. Wilford Brimley is also terrific as Dr. Blair, a scientist that goes insane after discovering the Thing\\'s purposes.<br /><br />\"The Thing\" is a film so wonderfully crafted that its flaws tend to go unnoticed, although they exist. The most notorious being the very low-key and at times unappropriated score by Ennio Morricone. It\\'s not exactly bad, but it just feels out of place at some scenes and it\\'s not one of the best works by the legendary composer. Also, due to some misshapes with the special effects, some scenes were left out that actually fill some small plot holes, although nothing of big importance or actually annoying.<br /><br />When talking about John Carpenter\\'s films, most people will almost instantly name \"Halloween\" as his favorite film, but personally, I would go with \"The Thing\", as I consider it Carpenter\\'s greatest achievement so far, and one of the most interesting and actually scary horror films ever made. I would go as far as to call it one of the finest films ever made. 10/10', 'Here\\'s one you can watch with a straight face, with a script so bad, even Will Ferrell wouldn\\'t be in it.<br /><br />There are two laughs in HOT ROD.<br /><br />1. The Punch-Dance. Rod \"needs to go to his quiet place\" and before anyone can say Kevin Bacon, he is footloosing a passionate, overwrought bodyswerve to the strains of a band who wishes they had the big-hair faux-metal chops of Europe.<br /><br />2. John Farnham\\'s You\\'re The Voice. In one of those epic sequences where the star and his cohorts do The Slomo Walk down Main Street and the townfolk follow on their heels in support, the soundtrack is the gag. How did the film-makers even come across this Aussie recording artist? A major Australian vocalist (and a genuine talent) who shot to fame in the early \\'70s covering Raindrops Keep Fallin\\' On My Head, then disappeared until 1986 for The Big Comeback with You\\'re The Voice, John Farnham\\'s anthem is so bewitchingly cheesy, it leveled mountains in Switzerland.<br /><br />Besides these two high points in the film - both ruined anyway with the slipshod writing - the rest of the film is like choking on someone else\\'s vomit.<br /><br />Andy Samberg is Rod, a failed stunt jumper who has never made a jump. Maybe it\\'s got something to do with the fact he\\'s driving a moped into the heart of darkness. Or his fake mustache. Yeh, someone actually thought that was funny.<br /><br />Without one jump under his starry belt, he plans for a 15-bus extravaganza - which would surely kill a lesser bad comedian, like Jason Biggs or Rob Schneider - to win the day and save his stepfather and simultaneously wipe out cancer and whatever... who watches these movies for plot anyway? Along the way (as usual for moronic leads in these comedies), he scores a salubrious chick (Isla Fisher), who must surely be retarded to consider swapping chromosomes with this loser.<br /><br />Sissy Spacek (CARRIE, 1976) has so little to do she almost phoned in her performance - then changed her mind and just hung up. Ian McShane must\\'ve lost a bet to be here.', \"If you liked Lock, Stock and Two Smoking Barrels, the chances are you'll like this, too. Although I guess a few of the British in-jokes (like calling two London characters Dixon and Winterburn, after Arsenal soccer players) may be lost on some, this is still cracking entertainment, which veritably pumps with vitality.<br /><br />Carlyle, Miller and Tyler are all excellent, bringing depth to their characters, and the interplay between the two protagonists is always well-judged. In fact Scott's direction is very assured, considering that this is his first feature film, and proves that he has his father's talent for putting us at ease in unfamiliar surroundings.<br /><br />Hell, I've convinced myself. I'm gonna see it again!\", \"don't expect much from this film. In many ways this film resembles a film that Doris Day starred in in 1956,title, Julie. In this film Doris,who was a flight attendant,stewardess,in those days,landed the air craft after her derange husband,played by Louis Jordan shot the captain. She did a far better job,more convincing,than Kim Ojah,who took control of a 747 and manage to land it without much help from the control tower. I know a little about 747 aircraft,i use to be a flight attendant myself. Like i said,do not expect much from this film,it was done on a cheap budget. The producers were to cheap to use a plane with the name of a airline on it. Oceanic is one name that several movies have used. The only writing on this plane was the name of the company that made the aircraft.\", \"PROM NIGHT (2008)<br /><br />directed by: Nelson McCormick<br /><br />starring: Brittany Snow, Scott Porter, Jessica Stroup, and Dana Davis<br /><br />plot: Three years ago, Donna (Brittany Snow) witnessed the death of her entire family at the hands of her teacher (Jonathan Schaech) who has a bit of a crush on her. Now, she is preparing for her senior prom with her stupid annoying friends. Once there, they start dying one by one because the killer escaped from prison and no one bothered to warn Donna because apparently her prom is too important to interrupt. <br /><br />pros: I got a few good laughs out of the film due to the terrible dialog and the dumb character moves.<br /><br />An example:<br /><br />Everyone decides not to tell Donna that the man who is oddly obsessed with her (she doesn't seem that great) has escaped from prison. Their reason: They don't want to embarrass her in front of all her friends. LOL<br /><br />cons: Let me start off by saying I'm a huge slasher fan. Usually I can have fun with even the bad ones. I even like some PG-13 horror films. TOURIST TRAP (1979), one of my favorites, was originally rated PG. I also enjoy POLTERGEIST (1982) and THE GRUDGE (2004). So the fact that this is a dumb slasher film that is rated PG-13 does not have anything to do with me not enjoying the movie.<br /><br />First of all, I had a big problem with the story. I like slasher films that don't even have stories. At least they can be entertaining. This is about a teacher who falls in love with his student, so he kills her entire family. A few years later, he tries to make it up to her by ruining her prom and killing all of her friends ...? Then there were subplots that I doubt anyone cared about. Claire (Jessica Stroup) is fighting with her boyfriend, she has cramps, and I couldn't care less. This should have been a Lifetime feature, not a remake of PROM NIGHT. <br /><br />And then ... this is a slasher film with terrible death scenes. I don't even care that it's not that gory, some of my favorite slashers (HALLOWEEN, CURTAINS, the original PROM NIGHT) were not that gory but they still had effective murders. Here, we have half the characters dying in the same hotel room off screen, a woman being stabbed several times with no stab wounds, and a closeup on a bad actor's face as he screams in agony. I'm sure that 10 year-old girls were terrified, but not me.<br /><br />I also hated the characters. There was Donna's unrealistically sensitive boyfriend Bobby (Scott Porter) and I can almost guarantee you will never meet a boyfriend that sensitive in your life, unless you are a gay male. Then we had Donna's annoying friends Claire (Stroup) and Lisa (Dana Davis), and the token mean girl Chrissy (Brianne Davis). If you thought the characters in DEATH PROOF were annoying, try watching this movie. And don't get me started on Ronnie (Collins Pennie) and the DJ (Jay Phillips) who gave me flashbacks to Usher's performance in SHE'S ALL THAT.<br /><br />Add to all that predictable plot turns, a terrible soundtrack and a big lack of respect to the original material, and you have quite a stinker.\", \"The is one of the worst spoofs I have ever seen. For one main reason: IT ISN'T FUNNY! I laughed a handful of times. The acting is bad, the script is worse. And why those guys had baby pacfiers in their hair I will never know. And you can tell this didn't have much of a budget to work with and it openly hurts the film. They had a good idea going in some parts but it never really came to past. And what was the point about the lead being older than his Dad? 3 out of 10\", \"A convict serving time comes forward to give the Cold Case unit information about the murder of a policeman, committed years before. The murder of Sean Cooper, a good cop, was never solved. Naturally, the detectives believe the new evidence will help them put together all the pieces of the puzzle that frustrated their colleagues.<br /><br />In flashbacks we are taken to the baptism of James Bruno's baby. Sean and Jimmy were partners. There is tension as Sean, who is the godfather, arrives disheveled and late for the rite. Eileen Bruno doesn't appear to be happy being there. The real mystery is revealed by her. She caught Sean, who was drinking with Jimmy in the backyard, kiss her husband, and more shocking yet, Jimmy responding willingly.<br /><br />Somehow at the station the partners become the center of gossip. Sean has not endeared himself to his superior because he discovered the involvement with a criminal in his area who controlled the drug business. Sean realizes this man is in with the drug strong man because he always makes an excuse to free the scum bags Sean and Jimmy haul into the station all the time. The pressure is too much on Jimmy. Sean is comfortable in his homosexuality and wants to be honest about it. Cooper's own father doesn't want anything to do with a queer son. Even his superior McCree wants him out of his jurisdiction, but the case is complicated because Cooper comes from a long line of Irish men serving in the police force. Sean is killed because his homosexual condition, and for knowing too much on his peers' involvement in taking dirty money.<br /><br />Tom Petit wrote this honest portrayal of the life of a police officer in the closet and his secret love with another fellow cop. We thought it was a frank account of a serious matter no one talked about in those days. Sometimes the people involved with the show, fearing reprisals from sponsors, or the networks, don't dare to present these real situations. Jeannot Szwarc, shows a sensitive approach to this thorny issue, which is dealt without the sensationalism the case might have been shown with a different team.<br /><br />There is a rare Chad Everett appearance as the older Jimmy Bruno. His take is right on target with a touch of sentimentality that doesn't get out of hand. Shane Johnson makes an excellent contribution to the show as Sean Cooper. The cast is marvelous and it includes good all around performances from everyone under Mr. Szwarc's direction.<br /><br />In this episode, Nick Vera, gets closer to his neighbor, the mother of the basketball player the detective took his ball away. Nick is heading for romance with the woman!\", 'Ayone who whines about how this movie was crap or that it had no plot must have been looking for \"Jean de Florrette\". HELLO! this film was made to be a random act of comedy and in no way involves a plot in any way shape or form. I would also like to remind these whiners that if you are going to flay the crap out of this film that they seem to be missing the point. This film is clearly made for people who don\\'t appreciate the so called \"american humour\" which seems to me just a pile of smutty crap. The point is everyone has an opinion and you should be a bit more appreciative that some peoples sense of humour may not be in line with your own before shooting your mouth off.<br /><br />Thankyou', \"Sex,Drugs,Rock & Roll is without a doubt the worst product of Western Civilization. The monologues are both uninteresting and pointless In the rare monologue that captures the audience's attention it is quickly lost through overly long repetition and unnecessary additions (The Hells Angels at McDonalds comes to mind) I guess Bogosian's one man show needed some filler material to give a length that he thought justified the price of admission.<br /><br />I would rather sleep with my aunt and be hung upside down and drained of my blood than see Sex,Drugs,Rock & Roll again.\", '36. THE HOSPITAL (comedy, 1971) A series of emergencies has gripped Manhattan Hospital. Patients are dying left and right due to overcrowded conditions, and a ineptitude staff. When a resident doctor is caught up in the death count the chief medical examiner, Dr. Bock (George C. Scott), is called in to investigate. Having worked as a doctor for too many years, and going through a mid-life crisis of his own, Dr. Bock finds the going tough. He decides to commit suicide. But then he meets Barbara (Diana Rigg), a young-hippie beauty. Whose keen insights on life help the depressed Bock.<br /><br />Critique: Black comedy features a \\'tour-de-force\\' performance from veteran actor George C. Scott. He\\'s good at playing high-strung, serious characters whose strict morals are severely tested. First half of the film unfolds like a melodrama, giving a pretty good account of hospital life, and the shambles they sometimes are. But then, as things look set for a dramatic climax it skews into slapstick comedy. If Paddy Chayefsky\\'s script had maintained its dramatic feel I wonder if Scott would\\'ve walked out with another best Actor Oscar (he had previously won it, \\'in-absentia\\', the year before). His breakdown (suicide) scene is one of the most gut-wrenchingly real in cinema history.<br /><br />QUOTE: Dr. Bock: \". . .last night I sat in my hotel room reviewing the shambles of my life and contemplating suicide. I said \\'no Bock don\\'t do it. You\\'re a doctor, a healer, you\\'re a necessary person, you\\'re life is meaningful\\'. Then. . .I find out that one of my doctors was killed by a couple of nurses. . .how am I to sustain my feeling of meaningfulness in the face of this?\"', 'Our story: Two U.S. Navy deep sea divers search for silver coins hidden beneath the ocean off the Filipino coast. Our proof: Extremely dull entertainment at its best, with no plot in sight. Jim Brown is completely wasted, provided his help in producing this 70s war turkey. Richard Jaeckel is in his usual form. Don Cornelius and Richard Pryor are among those who gave special thanks in their contributions! BOMBS AWAY!!!', \"Definitely a movie for people who ask only to be entertained and who do not over-think their movies. <br /><br />Lots of action, lots of great dialogue (e.g. fun to quote), a little intrigue, and stuff blowing up all over the place. Samuel L Jackson and Geena Davis had great chemistry. Violent, but not gory. The fact that the female part was the competent action lead is a pleasant turn-about.<br /><br />Have seen the movie more than a dozen times and still enjoy it enough to put it back in my favorite films rotation every 3 or 4 months. I initially rented the movie because Samuel L Jackson was in the film, but was caught up in the events surrounding Samantha's quest to regain her memory and have never looked back.<br /><br />All you cerebral folks out there -- suspend disbelief for once, take yourself a little less seriously -- you might actually enjoy yourselves!\", 'About your terrible movie copying Beethoven. As a professional musician it\\'s my duty to watch every movie made about any composer and Beethoven is one of my favorites. When Hungarians and Americans meet, it\\'s a terrible combination of empty over the top emotions combined with the worst taste possible. You proved it in your terrible b-movie. The only thing that carries the movie is the music. Of course you didn\\'t bother to look further than the good but in my taste contrived performances of the Tackacs quartet, but OK I have to admit that the performances at least have quality as contrast to the movie you\\'ve made. It starts of with the dying DEAF Beethoven who perfectly understands Anna who is merely whispering. Beethoven\\'s hearing during the movie get\\'s better by the minute, but that must be because of some vague divine thing. Then there is the quite impossible semi-pornographic \"eyes wide shut\" double-conducting scene which is totally over the top with the luscious Anna and the crying nephew in the end (who also cries in the deleted scenes with constant red eyes, my GOD what a performance). And as culmination the rip-off from Amadeus, with Beethoven dictating music to Anna not in notes but in total nonsense, which she understands perfectly but no-one else in your audience even trained professional musicians will understand. Of course your reaction will be that negative response is a response at least, but I can assure you that Beethoven himself is turning in his grave because of your worthless creation and with reason. This so called homage is blasphemy and I am so sorry to have rented one of the worst movies ever made even though it\\'s about my favorite subject. Ed Harris and others, you cannot comprehend the greatness of Beethoven in your wildest dreams and certainly not after a couple of lessons in conducting and violin playing. That\\'s the trouble with you Americans: you think you can grasp everything even when it takes a lifetime of hard work. Yeah we can do it anyway! Remember that a good product comes with hard labor, talent, devotion and professionalism. All these you creators of Copying Beethoven lack. See you in kindergarten.', 'Samuel Fuller is hardly one of America\\'s great directors. I\\'m not sure he qualifies as one of Hollywood\\'s great craftsmen. But he certainly ranks up there with the best of Hollywood\\'s true professionals who were willing to march to their own music. During the time he worked for Hollywood studios, he knew how to take an assignment, shape the middling material handed to him and then turn it quickly and efficiently into something usually better than its parts...on time and on budget. Pickup on South Street is a case in point. On the surface it\\'s one more of Hollywood\\'s early Fifties\\' anti-Commie movies, complete with appeals to patriotism, a hard-boiled hero and a slimy (and copiously perspiring) bad guy. Fuller turns this bag of Hollywood clichés into a taut, exciting drama with any number of off-kilter twists. The hero, Skip McCoy, is a three-time loser, a petty crook with soft fingers who doesn\\'t change his stripes until the very end. The girl in the caper, Candy, has a level of virtue that would be easy to step over if you\\'re so inclined. One of the most appealing characters, Moe Williams, is a stoolie. And in an unusual approach to Hollywood\\'s battle against Commies, the appeals to patriotism fall on deaf ears; the hero isn\\'t motivated by anything so ennobling. He just wants payback for a personal reason, and winds up becoming...at least for now...a good guy. <br /><br />Plus, all the actors were mostly assigned to Fuller by the studio. He had to make do. Richard Widmark by now had established his presence as an actor and star, but Jean Peters is a surprise. She gives a fine portrait of a woman sexy and dumb, and no better than her boy friends...or her clients...want her to be. And Richard Kiley, who later would become a two- time Tony award winning star on Broadway, is convincingly slippery and cowardly. It\\'s hard to remember that he was the actor who inflicted on us, I mean introduced to us, \"The Impossible Dream\" from Man of La Mancha, <br /><br />More than anything else, this tale of a pickpocket who picks a purse in a subway car and finds himself with microfilmed secrets instead of cash, pursued by the Feds and the Commies, moves straight ahead with great economy. The whole enterprise, with a classic noir look, only takes 80 minutes to tell. The dialogue, with Fuller as screenwriter, has that party corny, partly pungent hard-boiled pulp fiction style. \"That muffin you grifted...she\\'s okay,\" one character says to Skip about Candy. Fuller moves us just fast enough from scene to scene to keep us hanging on what will come next. Then Fuller throws in the character of Moe Williams. All of a sudden the story ratchets up to a whole new level of interest, part comedy relief and part sad inevitability. <br /><br />The thing I like best about the movie is how the opening exemplifies Fuller\\'s talents and strengths. In 2 minutes and 15 seconds, starting right after the credits, Fuller is able to instantly power up the movie, to establish for us what the story is about, and to show us what kind of characters -- Skip and Candy -- we\\'re going to be involved with. And he does this with so much enticing curiosity in that hot, packed subway car that we can just about feel Fuller setting the hook to catch us. <br /><br />Says Glenn Erickson, in my opinion one of the best of movie critics, \"In what should be an inconsequential story, Sam Fuller defines his peculiar view of Americanism from the bottom up: stiff-necked, aggressive self-interest that when fully expressed recognizes what\\'s wrong and what\\'s right and isn\\'t afraid to fight for it. As always in his work, the individuals who fight the hardest for their country are the ones least likely to benefit from the effort.\" He\\'s right, and it makes for a movie still vivid after 55 years.', 'I have to hold Barney drilling my head every day; well.. I guess there must be reasons. First, I\\'m convinced that our kids are not stupids, they are just kids, but they know (my 1 and a half years old son \"selects\" what to see) what\\'s nice or disgusting. Did you see the news? Do you think your kids HAVE TO KNOW the reality as it is? Maybe..or maybe not; we (the adults) have the responsibility about what we want for our kids, and what to teach them. A film of drug dealers? news about massacres in Middle East? Of course, the kids must know there is a Real Life, but... they are kids; let\\'s give them some mercy. What do you want for them? If you wanna have kids trained on weapons or the best way to kill a neighbor, go ahead, impose them Lethal Weapon, Kill Bill, any manga\\'s anime, tell them Santa\\'s a depraved who enters through the chimney directly to violate them. I want illusions for my son (don\\'t get me wrong, I\\'m not saying Barney and Friends is the best; in fact, the show have a lot of defects, I read other comments and I agree with most); maybe the happiness is made of dreams, or illusions. At least, I want to teach him to grow WITHOUT FEAR BUT CAUTIOUS, that learns to think and believe that everything is not serial killers or hijackers, whom they\\'re reasons to worth to grow. That, at least, he can be a little happy with his own dreams. So, parents, don\\'t underestimate your kids; they know what they want.', 'Last weekend I bought this \\'zombie movie\\' from the bargain bin and watched it with some friends thinking it was going to be a budget version of \"Land of the Dead\".<br /><br />Boy, was I wrong. <br /><br />It seems as if they spent a good portion of their budget on the cover-art, which is very misleading to fans of the zombie genre.<br /><br />We watched up to the point where the zombie chicks come alive and get in the car with some yuppie who is out in the middle of nowhere talking business on a cell-phone. They actually speak to the guy before one of the girls kills him; but once they started driving the car, I couldn\\'t suspend my disbelief anymore.<br /><br />Some people actually consider this a \"so bad, it\\'s good\" movie, they are liars. I didn\\'t finish the movie, but one of the other reviews mention that they actually somehow become police officers at the end of the movie, which makes me glad to not have watched it all the way through.<br /><br />This is even worse than \"Zombiez\" DO NOT WATCH!', \"I often feel like Scrooge, slamming movies that others are raving about - or, I write the review to balance unwarranted raves. I found this movie almost unwatchable, and, unusual for me, was fast-forwarding not only through dull, clichéd dialog but even dull, clichéd musical numbers. Whatever originality exists in this film -- unusual domestic setting for a musical, lots of fantasy, some animation -- is more than offset by a script that has not an ounce of wit or thought-provoking plot development. Individually, June Haver and Dan Dailey appear to be nice people, but can't carry a movie as a team. Neither is really charismatic or has much sex appeal. They're both bland. I like Billy Gray, but his character is pretty one-note. The best part of the film, to me, are June Haver's beautiful costumes and great body.\", \"Recap: Full moon. A creature, a huge werewolf, is on the hunt. Not for flesh, not for blood (not that it seem to mind to take a bite on the way though), but for a mate. He is on the hunt for a girl. Not any girl though. The Girl. The girl that is pure (and also a werewolf, although she doesn't know it yet). Three, well check that, two cops (after the first scene) and an old bag lady is all that can stop it, or even knows that the thing killing and eating a lot of folks around full moon is a werewolf. This particular powerful werewolf, Darkwolf, is closing in on the girl. If he gets her, mankind is doomed. Now the cops has to find the girl, convince her not only that there is someone, a werewolf nonetheless, that wants to rape her, and perhaps kill her, but that she is a werewolf herself. And then they got to stop him...<br /><br />Comments: This is one for the boys, the teenage boys. A lot of scenes with semi-nude girls more or less important for the plot. Mostly less. Well I guess you need something to fill some time because the plot is (expectedly) thin. And unfortunately there is little besides the girls to help the plot from breaking. One usually turns to two main themes. Nudity. Check. And then special effects. Hmm... Well there are some things that you might call effects. They're not very special though. In fact, to be blunt, they are very bad. The movie seems to be suffering of a lack of funds. They couldn't afford clothes for some of the girls ;), and the effects are cheap. Some of the transformations between werewolf and human form, obviously done by computer, are really bad. You might overlook such things. But the Darkwolf in itself is very crude too, and you never get to see any killings. Just some mutilated corpses afterwards. And there is surprisingly little blood about, in a movie that honestly should be drenched in blood.<br /><br />I'm not sure what to say about actors and characters. Most of the times they do well, but unfortunately there are lapses were the characters (or actors) just looses it. A few of these lapses could be connected with the problems mentioned above. Like the poor effects, or the poor budget(?). That could explain why there is precious little shooting, even if the characters are armed like a small army and the target is in plain sight (and not moving). But hey, when you're in real danger, there nothing that will save your life like a good one-liner...<br /><br />Unfortunately that can't explain moments when the Cop, Steve, the only one who knows how to maybe deal with the problem, the werewolf that is, runs away, when the only things he can be sure of, is that the werewolf is coming for the girl, who is just beside him now, and that he cannot let it have her. But sure, it let the makers stretch the ending a little more...<br /><br />But I wouldn't mind seeing none of the lead actors/actresses get another try in another movie.<br /><br />Well. To give a small conclusion: Not a movie that I recommend.<br /><br />3/10\", 'I first heard about The Melancholy of Haruhi Suzumiya from a reviewer on Youtube. He literally slapped the show with a big bad rant, condemning it rubbish and confusing. Curious, I decided to watch the show (once I got the order of the episodes right, thanks to those who made the lists), and I found it absolutely brilliant and enjoyable to watch. Great memorable characters who are full of life and are absolutely lovable and hilarious; a unique and not over blowing plot that makes sense now that I\\'ve watched the show; and two of the best anime moments in history, in my opinion. Plus the opening and ending themes are great.<br /><br />The anime, based on a collection of successful manga novels, follows a simple plot, once you understand it. While the show\\'s focus is on the main character, Haruhi Suzumiya, the point of view is from her friend Kyon. Kyon is a regular high school student who doesn\\'t really believe in supernatural stuff (e.g. Santa Clause, aliens, time travellers, ghosts, espers) but he soon ends up talking to Haruhi, who is the most oddest girl in the school and would prefer to date an alien, considering all men worthless. She even joined every club in the school to find something interesting, but quit as quickly as she joined. Upon \"advice\" from Kyon, Haruhi decides to form her own club with Kyon\\'s club. Setting up in the literary club room, Haruhi forms the SOS Brigade - its mission to investigate supernatural cases (think Scooby-Doo minus the dog, the masked man and the Mystery Machine).<br /><br />Haruhi \"recruits\" three extra members. The first is Yuki Nagato, a bookworm of sorts who speaks very little and spends most of her time reading and sitting. The second is Mikuru Asahina, a shy girl who is forced into the club by Haruhi who thinks they need a cute mascot to get some things done. She is often forced into costumes by Haruhi to further her cuteness. The third is Itsuki Koizumi, a friendly and sociable transfer student who is always smiling. While Haruhi thinks her group is filled with normal people she couldn\\'t be more wrong. While Kyon is as normal as you can get, the other three on the other hand are rather unique - Yuki is an alien, Mikuru is a time traveller from the future, and Itsuki is an esper (a person who has ESP). All three have come to watch over Haruhi who may just have the powers of a god, and if she becomes bored, she may be able to discover her powers and create a whole new world, and Kyon is involved somehow.<br /><br />The show is worth watching with great characters, music and some hilarious and wonderful moments. However, for parents, there is some sexual references including Mikuru\\'s cleavage being exposed or touched several times, and several swear words used as well. Apart from that, the show is one of the greats.', 'Well I\\'ve enjoy this movie, even though sometimes it turns too much to a stereotypical situation. I didnt understood at this time if the \"Punishment Park\" has exist in the past, but I think the matter isnt really here.<br /><br />You have to look at this movie in a different manner. It shows how much violence you can find in our world. It reminds us that we live in a world who is lead by violence and that nobody can escape from it. If anyone refuse to \"take his responsabilities\" then you will be thrown out of our society...All our history is made by wars, we should never forget this. In fact its only when we will finally accept the truth that, maybe, we will change and understand that our \"intellectual skills\" have improve. So we could use them to find others ways to resolve our problems.<br /><br />In 2 words this movie is a must see, maybe it will help us to accept the truth...', 'When I first read Armistead Maupins story I was taken in by the human drama displayed by Gabriel No one and those he cares about and loves. That being said, we have now been given the film version of an excellent story and are expected to see past the gloss of Hollywood...<br /><br />Writer Armistead Maupin and director Patrick Stettner have truly succeeded! <br /><br />With just the right amount of restraint Robin Williams captures the fragile essence of Gabriel and lets us see his struggle with issues of trust both in his personnel life(Jess) and the world around him(Donna).<br /><br />As we are introduced to the players in this drama we are reminded that nothing is ever as it seems and that the smallest event can change our lives irrevocably. The request to review a book written by a young man turns into a life changing event that helps Gabriel find the strength within himself to carry on and move forward.<br /><br />It\\'s to bad that most people will avoid this film. I only say that because the average American will probably think \"Robin Williams in a serious role? That didn\\'t work before!\" PLEASE GIVE THIS MOVIE A CHANCE! Robin Williams touches the darkness we all must find and go through in ourselves to be better people. Like his movie One Hour Photo he has stepped up as an actor and made another quality piece of art.<br /><br />Oh and before I forget, I believe Bobby Cannavale as Jess steals every scene he is in. He has the 1940\\'s leading man looks and screen presence. It\\'s this hacks opinion he could carry his own movie right now!!<br /><br />S~', 'I waited until the 4th of July to write this because . . . well . . . because it just feels right to be doing it on this day.<br /><br />In 1924 D.W. Griffith needed a hit, he had not had a big one since ORPHANS OF THE STORM (1921). He\\'d been working steadily since then but his movies had been smaller in scope and had failed to hit the right chord with audiences. He was planning a film about Patrick Henry when he was contacted by members of the Daughters of the American Revolution (DAR) who asked if he might expand his ideas to encompass more of the American Revolution. This movie is the result. By the time he had finished he had a 14 reel history lesson and there wasn\\'t a trace of Patrick Henry anywhere.<br /><br />We all know the story of the Revolutionary War but Griffith threw in a love story with Patriot farmer Nathan (Neil Hamilton) falling in love with Tory aristocrat Nancy Montague (Carol Dempster, a leading lady for Griffith for many years). Complicating matters is the fact that Nancy\\'s father hates Nathan . . . well not just Nathan, he hates all rebels. It does not help matters when, during a skirmish on the streets of Lexington someone jostles Nathan\\'s arm causing him to discharge his gun and accidentally wound Nancy\\'s dad!<br /><br />Paralelling the love story is the (mostly true but partially embellished) story of Capt. Walter Butler (Lionel Barrymore) a renegade British officer who feels he owes allegiance to no one. With Thousands of Indians form the Six Nations on his side he hopes to crush the colonials and become monarch of his own empire.<br /><br />Comparisons with BIRTH OF A NATION (1915) are inevitable. The Montague family might just as well be the Cameron\\'s from the earlier film while Nathan could be a part of the Stoneman family. The sequence of the Battle of Bunker Hill is staged very similarly to a scene in BIRTH OF A NATION with the attacking army, in this case the Redcoats, storming a trench packed with Patriots. The only thing missing is Henry Walthall charging across No Man\\'s Land to stuff a flag into the muzzle of a cannon. Amazingly enough the battle scenes in America seem to lack the energy of the battle scenes in BIRTH and fail to draw the audience in. Something is clearly missing. It isn\\'t scope, G.W. \"Billy\" Bitzer\\'s camera work is quite good. Maybe what is missing is . . . dare I say it . . . sincerity?<br /><br />The brutality of Capt. Butler and his men is well underscored although much of it happens in long shot or offscreen. Don\\'t expect any heads to be lopped off in closeup like we saw in INTOLERANCE (1916). In one scene Butler\\'s second in command, Capt. Hare (Louis Wolhiem) gouges out the eyes of a captive colonist. We see only the beginning of the deed, for the remainder the camera focuses on Hare\\'s face as he obviously has a good time doing this. Lionel had been working with Griffith on and off since 1912. A story goes that he approached Griffith for work and D.W., knowing the reputation of his famous family, said \"I am not hiring stage actors.\" to which Lionel replied \"And I am nothing of the kind, sir!\" He makes a very good and quite believable villain. Louis Wolhiem appeared with Lionel\\'s older brother John three times; in SHERLOCK HOLMES and DR. JEKYLL AND MR. HYDE (both 1920) and later in THE TEMPEST (1927). As Capt. Hare his wild staring eyes and disheveled hair not only mark him as a villain but make you think he is quite mad also.<br /><br />Neil Hamilton later remarked that America was his first time on horseback and \"I was scared to death.\". He hides his displeasure very well though and we can believe he was quite the equestrian by the time shooting was over. Mr. Griffith was very much in love with Carol Dempster and at one point asked her to marry him. She refused and soon left his stock company, after which her star status gradually waned.<br /><br />Speaking of horses, one accidentally amusing moment which had to be unscripted came during the depiction of Paul Revere\\'s ride. He rides his horse right up on the front porch of a family to announce \"To arms! The Regulars are coming!\" but as he tries to leave the horse cannot negotiate the steps backwards and stumbles spilling his rider on the ground! I am amazed Griffith did not do another take.<br /><br />So is America a classic? YES! Don\\'t wait for July 4th to see it, it is enjoyable anytime.', \"This is a tongue in cheek movie from the very outset with a voice-over that pokes fun at everything French and then produces a rather naif but very brave hero in Fanfan La Tulipe. Portrayed by the splendid Gerard Philippe, the dashing young man believes utterly in the fate curvaceous Lollobrigida foretells - notably that he will marry King Louis XV's daughter! Problem is, La Lollo soon find outs she too is in love with Fanfan...<br /><br />Propelled by good sword fights, cavalcades, and other spirited action sequences the film moves at a brisk pace and with many comic moments. The direction is perhaps the weakest aspect but the film is so light and takes itself so un-seriously that I could not give those shortcomings a second thought. Look out for Noel Roquevert, a traditional heavy in French films, trying to steal La Lollo, making himself a nuisance, and feeding the script to the fortune teller that reads La Lollo's hand! And what a gem Marcel Herrand is as the megalomanous and lust-driven King Louis XV! That is not all: So many beautiful women in one film makes me wish I were in France and on the set back in 1952! The film may have come out that year but its verve, cheek, superb narration, immaculate photography and the memorable Gerard Philippe ensure that it remains modern and a pleasure to watch. I would not hesitate to recommend it to my grandchildren let alone to anyone who loves movies in general and swashbucklers in particular! Do see it!\", \"Robert Wagner is the evil boss of Digicron, a telecommunications company with a virus that kills people.<br /><br />'so you're saying that the software virus has become a real virus that can kill people - that may be medically possible but not possible from my system' <br /><br />'i'm having to write some new virus software of my own to trap it - it may take some time'<br /><br />'but it's not going after software, it's killing people'<br /><br />watch out for the 'i'm into virology' love moment and perhaps first ever film plot to feature death by braille keyboard\", \"hello, looking for a movie for the family to watch on a Friday night? Can't find what your looking for? I thought this was an extremely enjoyable movie. Good for the whole family. I found that it had a remarkably rare combination of it being appealing to both adults and children alike. It was brilliant, to say the least. Bruce Willis's acting was top-notch, there was a lot of humor in it and overall, a great movie. In my opinion, it's a must-see movie. And I don't think that about a lot of movies, believe me when I say it takes a lot for a movie to get me to think that. It's clear that there was much work done by Bruce Willis and cast to get this movie done. Excellent story, good acting, and again, overall a thoroughly enjoyable movie.\", 'An amazing piece of film that was well-conceived and kept me on the edge of my seat. Brilliantly orchestrated in its timing, and the comedy kicked in exactly when the tension needed a release. The acting was generally well-done (the \"Director\" should\\'ve asked Alec Guinness for acting lessons), and the shot selections were impressive (as in elongating the hall as Billy tries to race to the door in the studio). This movie didn\\'t let up since the opening scene...', \"Damien O'Donnell has a good track record and in this film he handles a very delicate topic with sensitivity but manages not to let the film turn into schmalz.<br /><br />This is a fantastic film, its funny with sad bits and it makes you look at things differently. Tell everyone you know to go see it now- FANTASTIC!<br /><br />The acting is excellent, and Dublin plays a starring role. This film will change the way you view people with disabilities and also give you a very entertaining night out in the cinema. I can't wait til it comes out on DVD.\", 'Really, truly, abysmally, garishly, awful. But actor Clayton Moore (the movie Lone Ranger) acquits himself competently as an actor. He\\'s the only one.<br /><br />A rare treat, for five minutes, if you want to plumb the depths of grotesquely transparent special effects, southern California as \"the moon\" (again and again and again), and acting so woodenly inept that it may be a spoof . . . except that it\\'s clear that it isn\\'t--no humor here, except unintentionally.<br /><br />The dialogue may be worse than any of these other aspects, and the costumes . . . well, enough said. Plot? What plot? Bad guy (well, head bad guy) and his henchmen, including his earthly agent called Krog (listen carefully or you\\'ll suspect it\\'s a spoof on the name of McDonald\\'s founder Ray Kroc)and his unbelievably inept gunsels (who, however, have handguns that never need reloading; as does Commando Cody, so there are numerous firefight standoffs).<br /><br />Enjoy.', \"As you can see, I loved the book so much I use the title for my internet alias and have for over 15 years. (Okay, so it had to be spelled phonetically to fit the name character limit for the BBS at the time but what could I do?) If anyone every finds this movie, I would absolutely love to see it! Janet McTeer is great in everything else I've seen of hers. I think she would have made a great Prue. And it even features early Clive Owen - from before Chancer (a great series itself). What's not to love? I hope the powers that be wise up and make this available on DVD soon! With some of the true dredge they pout out, it's about time well executed productions make it on the market too.\", 'Is there anything that happens in this movie that is NOT predictable? I think not. Basically the movie is cliché after cliché and really nothing ever comes as a surprise. It makes the movie extremely predictable and because of that the movie is also seriously lacking in tension. So for a thriller it is not tense and unpredictable enough but also as a drama it\\'s a failure. This is because the movie its story is highly unlikely. I mean, no way this could ever happen in real life, as in the same way as the events occur in this movie. So the movie has a real suspense and credibility problem.<br /><br />But it truly are the clichés that killed the movie. It was cringing stuff at times. Everything is so formulaic in this movie. The predator is portrayed as a cool heartless, almost psychopath like sexual frustrated boy and the victim as a naive young woman, who acts like she didn\\'t see any of this coming. Everything that happened in the movie was so obvious and all seemed to happen for a reason. Such as the sequence in which the \\'predator\\' fixes the \\'victims\\' broken car. That has got to be one of the oldest clichés out of the book. I knew what the movie tried to achieve after that point. I tried to look as if the teacher and the student were really growing toward each other trough the eyes of the other persons around them. It was so incredibly obvious and cheap that I almost wanted to stop watching the movie after that point. The movie is filled with moments like these.<br /><br />The title might suggest that this is a cheap porn movie but this in fact is a sappy made for TV movie. Which means that everything is slowly happening and the movie spends halve its time on character development and unnecessary sub-plots to make the movie even more drama like.<br /><br />I\\'ll admit that Elizabeth Berkley is pretty good acting in this movie. She makes some of the clichés and events look even almost realistic at times. Her Hollywood career is as good as over after appearing in the Paul Verhoeven movie \"Showgirls\", so unfortunately she will probably only still appear in movies- and television series like this one. It\\'s a waste of her talent and she surely deserves better. All of the other characters are a disappointment. Corey Sevier plays the cliché pretty \\'untouchable\\' rich boy and the way the husband of the main character is portrayed is even worse. He looks more like a sexual frustrated predator than the true predator of the movie. He basically tries to have sex with his wife in every sequence. He wakes up, he wants sex. Before he goes to sleep, he wants sex. He gets home, he wants sex. It might be a realistic thing but I don\\'t know, it just didn\\'t feel right for a movie like this one and the story in general.<br /><br />A cliché filled movie and I can\\'t think of any reason why anyone should ever watch this movie. It\\'s predictable and therefor also lacks in suspense and credibility. Not an \\'horrible\\' movie and it certainly is a watchable one at times but all the weak and cliché elements in the movie also make this far from a recommendable one.<br /><br />4/10', 'I was shocked and surprised by the negative reviews I saw on the web, I thought Cinderella 2 (as well as 3) is a very cute and funny sequel for everyone - kids and adults...like me, I am 22 years old.<br /><br />I also find it and very informative film, it shows lessons on being true to yourself and following your heart. I thought it has great animation, and the voice casting was very good; the songs performed by Brooke Allison too. Since this film has been divided into three flashbacks/stories, my favorite out of the three, is the story of when Jaq the mouse, became a human for a day, thanks to Fairy Godmother and her magic.', \"I found this movie to be extremely delightful.I am biased I suppose.I happen to adore Kathy Bates.I found her singing an added pleasure.She has a very nice voice.<br /><br />Ms Bates plays Grace Beasley.The film takes you from her doledrums married life in Chicago to England,the home of her recently murdered singing idol Victor Fox.There she meets his three surviving uppity sisters.She also discovers that Victor leaves behind a male lover,Dirk Simpson.<br /><br />The story leads you on to some surprisingly comedic and heartwarming situations as Grace and Dirk develop a true fondness for each other,after an initial rather rude rejection,on his part.They return to Chicago where they team up with Grace's pint-sized,hilarious daughter-in-law,Maudie,to find the serial killer who murdered Victor.<br /><br />Everyone in the picture did a fine job.Particularly enjoyed Julie Andrews,Lynn Redgrave and Barry Manilow.This movie was fun.It makes you cry.The music is absolutely charming.<br /><br />Other posters here who found problems with any parts of this movie,just don't have a clue.<br /><br />\", 'Quirky, independent, theatrical, Christian Slater--these are all teasers that made me look forward to spending an hour or so \"discovering\" a jewel of a film. Boy, was I disappointed. Julian Po never gets over itself. The film is relentlessly self-conscious. I found myself unable to suspend disbelief for even a moment. The overdone, obviously theatrical sets, the overdone, obviously theatrical acting, the overdone, obviously theatrical directing -- well, you get the idea. <br /><br />Allegories do not need to be delivered sledge hammer style. And it\\'s hard to feel much of anything for Julian Po because we never know much about him. The ridiculous girlfriend, the annoying townsfolk, the idiotic clergyman, the bratty kids -- why would anyone, particularly anyone with a life long ambition to get to the seaside (Slater\\'s character), decide to stay in such a dismal place?', \"Zoey 101 is basically about a girl named Zoey who transfers into an all boys boarding school during the first year that they integrate girls into it. That raw plot line is, I'll admit, a pretty good idea. Although this show was meant for children, a five year old could probably point out its fatal flaws. First, Zoey is a cliché character, her being super popular, super attractive, super smart, and there;s nothing wrong with her; no girl is like that. It feels like the show was put the spotlight on Jamie Lynn Spears and increase her fame. Dana, who appeared at the beginning of the first season, is just plain mean. However, in my opinion, she was probably the most realistic character of them all, which is sad seeing that Dana is never nice. Nicole is too peppy and acts like a complete airhead, but mysteriously gets straight A's. Lola seems to be able to fool anything with her Emmy-deserving acting skills. Quinn is supposed to be super smart, and although she is able to create the most unrealistic things, she is also made out to be weird, and she never gets any guys although she is both beautiful and smart, while Zoey, Lola, and Nicole get guys and they're all beauty and no personality. Chase and Michael are very similar, and I even sometimes get them confused. Logan is unrealistically rich, and hands out millions like they're dollars. Nobody's that rich. I've also noticed that every character on the show is mean to that Stacy girl, who does nothing but act nice to them. That's not funny! That's mean and it just influences young girls to act mean to totally nice people. Finally, the school itself adds the frosting to the unreal cake by providing the students with 5-star amenities such as a scenic location, sushi bar, hot lounge equipped with free soda machines, pool&jacuzzi, movie theater, and the allowance for boys and girls to freely go into the other sex's dorm rooms. At most boarding schools, if a boy were to go into a girl's dorm or vice versa they would be expelled.<br /><br />In conclusion, Zoey 101 was poorly written and should have spent a few more years in the drafting process.\", \"This movie is terrible, it was so difficult to believe that Katie became a heartfelt teenager with the power to save the pity Chinese people, the movie didn't show any convincing argument to prove that. And the rest of the plot didn't make any effort to show us more than a cheap common sense... <br /><br />The plot is ridiculous and the only thing we can extract from it is that it demonstrate how arrogant a human can be. Katie must have inherited her arrogance from her mother, the most annoying character I have seen for a long time. <br /><br />The acting and scenery were OK, but the plot ruins everything, full of cheap clichés and hypocritical scenes, I expect not to see this movie again in my life. Skip this one!\", \"The only thing serious about this movie is the humor. Well worth the rental price. I'll bet you watch it twice. It's obvious that Sutherland enjoyed his role.\", \"2005 was one of the best year for movies. We had so many wonderful movies, like Batman Begins, Sin City, Corpse Bride, A History of Violence.....Coming up we also got Brokeback Mountain, King Kong....But if this year the only great movie that came out was Everything Is Illuminated, then we wouldn't miss all this year has brought. The first movie as a director of the talented Liev Schreiber is a delightful, heart-warming, touching drama that also brings one of Elijah Wood's best roles. He is perfect as Jonathan, a curious man that heads for Ukraine to find the woman who saved his Grandfather in World War II. Liev Schreiber, who also writes the movie, conducts a masterpiece, with memorable scenes and (a lot of) funny quotes. This here is a genuine mixture of Comedy with Drama, bringing a movie that will be commented years from now. A serious Oscar contender, Everything is Illuminated is a powerful, original, and, why not say, illuminated movie. But there's one thing you should remember while entering the movie: leave normal behind. This is special.------9/10\", 'According to John Ford\\'s lyrically shot, fictional biopic of Abraham Lincoln\\'s life his greatest faults may have been an obtuseness with woman and an ability to dance in \"the worst way.\" Ford\\'s camera has only praising views to reveal of Mr. Lincoln\\'s early life. But for what the film lacks in character complexities it makes up for in beauty and depth of vision. Uncharacteristically beautiful compositions of early film, what could have been a series of gorgeous still frames, Ford has a unique eye for telling a story. The film sings of the life of a hopeful young man. Henry Fonda plays the contemplative and spontaneously clever Lincoln to a tee, one of his best roles.<br /><br />The film concerns two young men, brothers, on trial for a murder that both claim to have committed. In classic angry mob style, the town decides to take justice into their own hands and lynch the pair of them, until honest Abe steps into the fray. He charms them with his humor, telling them not to rob him of his first big case, and that they are as good as lynched with him as the boys lawyer. What follows seems to become the outline for all courtroom- murder-dramas thereafter, as Abe cunningly interrogates witnesses to the delight and humor of the judge, jury and town before he stumbles upon the missing links.<br /><br />The film plays out like many John Ford movies do: a tablespoon of Americana, a dash of moderate predictability, a hint of sarcasm that you aren\\'t sure if you put in the recipe or if Ford did it himself. Despite the overtly \\'Hollywood\\' feel of the film, and overly patriotic banter alluding to Lincoln\\'s future presidency, the film is entirely enjoyable and enjoyably well constructed, if you can take your drama with a grain of salt.']\n",
            "0.88: Positive sentiment\n",
            "0.899: Positive sentiment\n",
            "1.0: Positive sentiment\n",
            "1.0: Positive sentiment\n",
            "0.999: Positive sentiment\n",
            "0.000187: Negative sentiment\n",
            "0.84: Positive sentiment\n",
            "0.944: Positive sentiment\n",
            "0.0434: Negative sentiment\n",
            "0.936: Positive sentiment\n",
            "0.883: Positive sentiment\n",
            "0.000303: Negative sentiment\n",
            "0.976: Positive sentiment\n",
            "0.0151: Negative sentiment\n",
            "0.756: Positive sentiment\n",
            "0.00458: Negative sentiment\n",
            "0.222: Negative sentiment\n",
            "0.522: Positive sentiment\n",
            "0.288: Negative sentiment\n",
            "0.928: Positive sentiment\n",
            "0.999: Positive sentiment\n",
            "0.00022: Negative sentiment\n",
            "0.305: Negative sentiment\n",
            "0.00103: Negative sentiment\n",
            "0.999: Positive sentiment\n",
            "0.679: Positive sentiment\n",
            "0.000538: Negative sentiment\n",
            "0.0587: Negative sentiment\n",
            "0.527: Positive sentiment\n",
            "0.00937: Negative sentiment\n",
            "0.92: Positive sentiment\n",
            "0.00136: Negative sentiment\n",
            "0.866: Positive sentiment\n",
            "0.000143: Negative sentiment\n",
            "0.211: Negative sentiment\n",
            "0.00352: Negative sentiment\n",
            "0.227: Negative sentiment\n",
            "0.0478: Negative sentiment\n",
            "0.927: Positive sentiment\n",
            "1.0: Positive sentiment\n",
            "0.0953: Negative sentiment\n",
            "0.983: Positive sentiment\n",
            "0.0766: Negative sentiment\n",
            "0.0375: Negative sentiment\n",
            "0.809: Positive sentiment\n",
            "0.999: Positive sentiment\n",
            "1.0: Positive sentiment\n",
            "0.649: Positive sentiment\n",
            "0.186: Negative sentiment\n",
            "0.169: Negative sentiment\n",
            "1.0: Positive sentiment\n",
            "0.734: Positive sentiment\n",
            "0.467: Negative sentiment\n",
            "0.000615: Negative sentiment\n",
            "0.971: Positive sentiment\n",
            "0.789: Positive sentiment\n",
            "0.0221: Negative sentiment\n",
            "0.979: Positive sentiment\n",
            "0.44: Negative sentiment\n",
            "0.998: Positive sentiment\n",
            "0.989: Positive sentiment\n",
            "0.0179: Negative sentiment\n",
            "1.0: Positive sentiment\n",
            "0.00413: Negative sentiment\n",
            "0.333: Negative sentiment\n",
            "0.0161: Negative sentiment\n",
            "0.00046: Negative sentiment\n",
            "0.00443: Negative sentiment\n",
            "1.0: Positive sentiment\n",
            "0.028: Negative sentiment\n",
            "0.119: Negative sentiment\n",
            "0.852: Positive sentiment\n",
            "0.565: Positive sentiment\n",
            "0.989: Positive sentiment\n",
            "0.00114: Negative sentiment\n",
            "1.78e-06: Negative sentiment\n",
            "0.0391: Negative sentiment\n",
            "0.000642: Negative sentiment\n",
            "0.0724: Negative sentiment\n",
            "3.02e-09: Negative sentiment\n",
            "0.994: Positive sentiment\n",
            "0.864: Positive sentiment\n",
            "0.998: Positive sentiment\n",
            "0.505: Positive sentiment\n",
            "0.998: Positive sentiment\n",
            "0.274: Negative sentiment\n",
            "0.935: Positive sentiment\n",
            "0.972: Positive sentiment\n",
            "0.999: Positive sentiment\n",
            "0.000407: Negative sentiment\n",
            "0.982: Positive sentiment\n",
            "1.76e-09: Negative sentiment\n",
            "0.992: Positive sentiment\n",
            "0.999: Positive sentiment\n",
            "0.00205: Negative sentiment\n",
            "7.81e-06: Negative sentiment\n",
            "0.000193: Negative sentiment\n",
            "0.461: Negative sentiment\n",
            "0.984: Positive sentiment\n",
            "0.999: Positive sentiment\n",
            "Accuracy: 0.800000\n",
            "Precision: 0.862745\n",
            "Recall: 0.771930\n",
            "F1 score: 0.814815\n",
            "[[36  7]\n",
            " [13 44]]\n",
            "              precision    recall  f1-score   support\n",
            "\n",
            "           0     0.7347    0.8372    0.7826        43\n",
            "           1     0.8627    0.7719    0.8148        57\n",
            "\n",
            "    accuracy                         0.8000       100\n",
            "   macro avg     0.7987    0.8046    0.7987       100\n",
            "weighted avg     0.8077    0.8000    0.8010       100\n",
            "\n"
          ]
        }
      ],
      "source": [
        "pred_labels = []\n",
        "\n",
        "sentences = list(df_test['review'])\n",
        "labels = df_test['sentiment']\n",
        "\n",
        "print(sentences)\n",
        "\n",
        "for sentence in sentences:\n",
        "  pred_labels.append(predict_sentiment(sentence))\n",
        "\n",
        "# accuracy: (tp + tn) / (p + n)\n",
        "accuracy = accuracy_score(labels, pred_labels)\n",
        "print('Accuracy: %f' % accuracy)\n",
        "\n",
        "# precision tp / (tp + fp)\n",
        "precision = precision_score(labels, pred_labels)\n",
        "print('Precision: %f' % precision)\n",
        "\n",
        "# recall: tp / (tp + fn)\n",
        "recall = recall_score(labels, pred_labels)\n",
        "print('Recall: %f' % recall)\n",
        "\n",
        "# f1: 2 tp / (2 tp + fp + fn)\n",
        "f1 = f1_score(labels, pred_labels)\n",
        "print('F1 score: %f' % f1)\n",
        "\n",
        "# confusion matrix\n",
        "matrix = confusion_matrix(labels, pred_labels)\n",
        "print(matrix)\n",
        "print(classification_report(labels, pred_labels,digits=4))"
      ]
    },
    {
      "cell_type": "markdown",
      "metadata": {
        "id": "EZ2Erf_yQJky"
      },
      "source": [
        "\n",
        "### Job Related Topics - Part I [Optional]\n",
        "\n",
        "- Create a professional email address\n",
        "    - First name + last name = firstlast@domain.com\n",
        "    - First name . last name = first.last@domain.com\n",
        "    - First name - last name = first-last@domain.com\n",
        "    - First name . middle name . last name = first.middle.last@domain.com\n",
        "    - First name - middle name - last name = first-middle-last@domain.com\n",
        "    - First initial + last name = flast@domain.com\n",
        "    - First initial + middle name + last name = fmiddlelast@domain.com\n",
        "    - First initial + middle initial + last name = fmlast@domain.com\n",
        "- The shorter your email the better\n",
        "- Complete your Linkedin profile\n",
        "- Prepare a CV in Latex\n",
        "- Seperate your contact number [personal vs professional]\n",
        "- Create GitHub profile [Username may only contain alphanumeric characters or single hyphens, and cannot begin or end with a hyphen.]\n",
        "- Build your website using GitHub pages [would see a demo in the next class]"
      ]
    }
  ],
  "metadata": {
    "colab": {
      "provenance": []
    },
    "kernelspec": {
      "display_name": "Python 3",
      "language": "python",
      "name": "python3"
    },
    "language_info": {
      "codemirror_mode": {
        "name": "ipython",
        "version": 3
      },
      "file_extension": ".py",
      "mimetype": "text/x-python",
      "name": "python",
      "nbconvert_exporter": "python",
      "pygments_lexer": "ipython3",
      "version": "3.8.3"
    }
  },
  "nbformat": 4,
  "nbformat_minor": 0
}